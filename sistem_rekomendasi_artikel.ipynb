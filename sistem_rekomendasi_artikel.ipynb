{
 "cells": [
  {
   "cell_type": "code",
   "execution_count": 23,
   "id": "3f12be46",
   "metadata": {},
   "outputs": [],
   "source": [
    "import pandas as pd\n",
    "import numpy as np\n",
    "import tensorflow as tf\n",
    "from tensorflow.keras.layers import TextVectorization, Embedding, GlobalAveragePooling1D, Dense, Input, concatenate\n",
    "from tensorflow.keras.models import Model\n",
    "from tensorflow.keras.optimizers import Adam\n",
    "from tensorflow.keras.preprocessing.text import Tokenizer\n",
    "from tensorflow.keras.preprocessing.sequence import pad_sequences\n",
    "from sklearn.model_selection import train_test_split\n",
    "from sklearn.metrics import classification_report, roc_auc_score, roc_curve\n",
    "from sklearn.metrics.pairwise import cosine_similarity\n",
    "import matplotlib.pyplot as plt\n",
    "from sklearn.decomposition import PCA\n",
    "import re\n",
    "import warnings"
   ]
  },
  {
   "cell_type": "markdown",
   "id": "f2536c3c",
   "metadata": {},
   "source": [
    "## Data Understanding"
   ]
  },
  {
   "cell_type": "code",
   "execution_count": 2,
   "id": "9896fbd1",
   "metadata": {},
   "outputs": [
    {
     "name": "stdout",
     "output_type": "stream",
     "text": [
      "Jumlah artikel: 17\n"
     ]
    },
    {
     "data": {
      "application/vnd.microsoft.datawrangler.viewer.v0+json": {
       "columns": [
        {
         "name": "index",
         "rawType": "int64",
         "type": "integer"
        },
        {
         "name": "Kategori",
         "rawType": "object",
         "type": "string"
        },
        {
         "name": "Kondisi",
         "rawType": "object",
         "type": "string"
        },
        {
         "name": "Judul Artikel",
         "rawType": "object",
         "type": "string"
        },
        {
         "name": "Isi Artikel",
         "rawType": "object",
         "type": "string"
        }
       ],
       "ref": "7ddfca51-3749-45ef-89f2-a9c4ab33be7d",
       "rows": [
        [
         "0",
         "Usia Ibu Hamil",
         "Kurang dari 18 Tahun",
         "Kehamilan di Usia Remaja: Panduan Nutrisi dan Dukungan untuk Ibu Muda",
         "Kehamilan di usia remaja (<18 tahun) membawa tantangan dan kebutuhan unik. Tubuh ibu masih dalam masa pertumbuhan, sehingga asupan nutrisi yang optimal sangat penting untuk kesehatan ibu dan perkembangan janin. Fokus pada makanan kaya zat besi, kalsium, asam folat, dan protein. Selain itu, dukungan emosional dan informasi yang akurat dari keluarga dan tenaga kesehatan sangat krusial. Pastikan untuk melakukan pemeriksaan kehamilan rutin dan jangan ragu berkonsultasi mengenai perubahan tubuh, persiapan persalinan, dan perawatan bayi. Pendidikan kesehatan reproduksi dan gizi seimbang adalah kunci menjalani kehamilan yang sehat di usia muda."
        ],
        [
         "1",
         "Usia Ibu Hamil",
         "Lebih dari 35 Tahun",
         "Hamil di Atas 35 Tahun: Peluang dan Persiapan untuk Kehamilan yang Sehat",
         "Hamil di usia 35 tahun ke atas (sering disebut 'advanced maternal age') semakin umum dan banyak yang menjalaninya dengan sehat. Namun, penting untuk menyadari adanya beberapa potensi peningkatan risiko, seperti diabetes gestasional, tekanan darah tinggi, atau kelainan kromosom pada janin. Oleh karena itu, pemeriksaan antenatal yang lebih komprehensif dan terjadwal, termasuk skrining genetik jika direkomendasikan, menjadi penting. Gaya hidup sehat, termasuk diet seimbang, olahraga ringan yang disetujui dokter, dan istirahat cukup, sangat membantu. Diskusikan dengan dokter Anda mengenai rencana perawatan kehamilan yang paling sesuai untuk Anda."
        ],
        [
         "2",
         "Gula Darah Ibu Hamil (BS)",
         "Tinggi (Contoh >126 mg/dL puasa atau >140 mg/dL 2 jam pp)",
         "Diabetes Gestasional: Kenali Gejala, Penyebab, dan Cara Mengelola Gula Darah Selama Kehamilan",
         "Kadar gula darah tinggi selama kehamilan bisa menjadi tanda Diabetes Gestasional Melitus (DGM). Kondisi ini terjadi karena perubahan hormonal yang mempengaruhi kerja insulin. Gejala DGM seringkali tidak spesifik, sehingga skrining rutin penting dilakukan. Jika terdiagnosis DGM, pengelolaan meliputi pengaturan pola makan sehat (rendah gula sederhana, tinggi serat), aktivitas fisik teratur sesuai anjuran dokter, dan pemantauan kadar gula darah mandiri. Terkadang, terapi insulin mungkin diperlukan. Mengelola DGM dengan baik penting untuk mencegah komplikasi pada ibu (seperti preeklampsia) dan bayi (seperti bayi besar atau hipoglikemia setelah lahir)."
        ],
        [
         "3",
         "Gula Darah Ibu Hamil (BS)",
         "Normal (Contoh puasa 70-100 mg/dL)",
         "Menjaga Gula Darah Stabil Selama Kehamilan: Tips Pola Makan dan Gaya Hidup Sehat",
         "Mempertahankan kadar gula darah normal selama kehamilan adalah kunci untuk kesehatan ibu dan perkembangan optimal janin. Ini dicapai melalui pola makan seimbang yang kaya akan buah-buahan, sayuran, biji-bijian utuh, dan protein tanpa lemak. Hindari minuman manis dan makanan olahan tinggi gula. Aktivitas fisik ringan hingga sedang yang aman untuk ibu hamil, seperti berjalan kaki atau berenang, juga membantu menjaga sensitivitas insulin. Pemeriksaan rutin sesuai jadwal dengan dokter Anda akan memastikan kadar gula darah tetap terpantau."
        ],
        [
         "4",
         "Gula Darah Ibu Hamil (BS)",
         "Rendah (Contoh <70 mg/dL)",
         "Hipoglikemia Saat Hamil: Penyebab, Gejala yang Perlu Diwaspadai, dan Penanganan Cepat",
         "Meskipun kurang umum dibandingkan gula darah tinggi, hipoglikemia (kadar gula darah rendah) bisa terjadi pada ibu hamil, terutama jika ada kondisi medis tertentu atau efek samping pengobatan diabetes. Gejalanya bisa berupa pusing, gemetar, keringat dingin, kebingungan, atau jantung berdebar. Jika mengalami gejala ini, segera konsumsi sumber karbohidrat sederhana seperti jus buah atau permen. Penting untuk mengidentifikasi penyebabnya bersama dokter Anda untuk mencegah episode berulang dan memastikan pasokan glukosa yang cukup untuk janin."
        ]
       ],
       "shape": {
        "columns": 4,
        "rows": 5
       }
      },
      "text/html": [
       "<div>\n",
       "<style scoped>\n",
       "    .dataframe tbody tr th:only-of-type {\n",
       "        vertical-align: middle;\n",
       "    }\n",
       "\n",
       "    .dataframe tbody tr th {\n",
       "        vertical-align: top;\n",
       "    }\n",
       "\n",
       "    .dataframe thead th {\n",
       "        text-align: right;\n",
       "    }\n",
       "</style>\n",
       "<table border=\"1\" class=\"dataframe\">\n",
       "  <thead>\n",
       "    <tr style=\"text-align: right;\">\n",
       "      <th></th>\n",
       "      <th>Kategori</th>\n",
       "      <th>Kondisi</th>\n",
       "      <th>Judul Artikel</th>\n",
       "      <th>Isi Artikel</th>\n",
       "    </tr>\n",
       "  </thead>\n",
       "  <tbody>\n",
       "    <tr>\n",
       "      <th>0</th>\n",
       "      <td>Usia Ibu Hamil</td>\n",
       "      <td>Kurang dari 18 Tahun</td>\n",
       "      <td>Kehamilan di Usia Remaja: Panduan Nutrisi dan ...</td>\n",
       "      <td>Kehamilan di usia remaja (&lt;18 tahun) membawa t...</td>\n",
       "    </tr>\n",
       "    <tr>\n",
       "      <th>1</th>\n",
       "      <td>Usia Ibu Hamil</td>\n",
       "      <td>Lebih dari 35 Tahun</td>\n",
       "      <td>Hamil di Atas 35 Tahun: Peluang dan Persiapan ...</td>\n",
       "      <td>Hamil di usia 35 tahun ke atas (sering disebut...</td>\n",
       "    </tr>\n",
       "    <tr>\n",
       "      <th>2</th>\n",
       "      <td>Gula Darah Ibu Hamil (BS)</td>\n",
       "      <td>Tinggi (Contoh &gt;126 mg/dL puasa atau &gt;140 mg/d...</td>\n",
       "      <td>Diabetes Gestasional: Kenali Gejala, Penyebab,...</td>\n",
       "      <td>Kadar gula darah tinggi selama kehamilan bisa ...</td>\n",
       "    </tr>\n",
       "    <tr>\n",
       "      <th>3</th>\n",
       "      <td>Gula Darah Ibu Hamil (BS)</td>\n",
       "      <td>Normal (Contoh puasa 70-100 mg/dL)</td>\n",
       "      <td>Menjaga Gula Darah Stabil Selama Kehamilan: Ti...</td>\n",
       "      <td>Mempertahankan kadar gula darah normal selama ...</td>\n",
       "    </tr>\n",
       "    <tr>\n",
       "      <th>4</th>\n",
       "      <td>Gula Darah Ibu Hamil (BS)</td>\n",
       "      <td>Rendah (Contoh &lt;70 mg/dL)</td>\n",
       "      <td>Hipoglikemia Saat Hamil: Penyebab, Gejala yang...</td>\n",
       "      <td>Meskipun kurang umum dibandingkan gula darah t...</td>\n",
       "    </tr>\n",
       "  </tbody>\n",
       "</table>\n",
       "</div>"
      ],
      "text/plain": [
       "                    Kategori  \\\n",
       "0             Usia Ibu Hamil   \n",
       "1             Usia Ibu Hamil   \n",
       "2  Gula Darah Ibu Hamil (BS)   \n",
       "3  Gula Darah Ibu Hamil (BS)   \n",
       "4  Gula Darah Ibu Hamil (BS)   \n",
       "\n",
       "                                             Kondisi  \\\n",
       "0                               Kurang dari 18 Tahun   \n",
       "1                                Lebih dari 35 Tahun   \n",
       "2  Tinggi (Contoh >126 mg/dL puasa atau >140 mg/d...   \n",
       "3                 Normal (Contoh puasa 70-100 mg/dL)   \n",
       "4                          Rendah (Contoh <70 mg/dL)   \n",
       "\n",
       "                                       Judul Artikel  \\\n",
       "0  Kehamilan di Usia Remaja: Panduan Nutrisi dan ...   \n",
       "1  Hamil di Atas 35 Tahun: Peluang dan Persiapan ...   \n",
       "2  Diabetes Gestasional: Kenali Gejala, Penyebab,...   \n",
       "3  Menjaga Gula Darah Stabil Selama Kehamilan: Ti...   \n",
       "4  Hipoglikemia Saat Hamil: Penyebab, Gejala yang...   \n",
       "\n",
       "                                         Isi Artikel  \n",
       "0  Kehamilan di usia remaja (<18 tahun) membawa t...  \n",
       "1  Hamil di usia 35 tahun ke atas (sering disebut...  \n",
       "2  Kadar gula darah tinggi selama kehamilan bisa ...  \n",
       "3  Mempertahankan kadar gula darah normal selama ...  \n",
       "4  Meskipun kurang umum dibandingkan gula darah t...  "
      ]
     },
     "execution_count": 2,
     "metadata": {},
     "output_type": "execute_result"
    }
   ],
   "source": [
    "# Memuat data artikel edukasi kehamilan\n",
    "file_path = 'edukasi_artikel.csv'\n",
    "df_articles = pd.read_csv(file_path)\n",
    "\n",
    "# Menampilkan beberapa data teratas\n",
    "print(f\"Jumlah artikel: {len(df_articles)}\")\n",
    "df_articles.head()"
   ]
  },
  {
   "cell_type": "code",
   "execution_count": 3,
   "id": "09c4e21a",
   "metadata": {},
   "outputs": [
    {
     "name": "stdout",
     "output_type": "stream",
     "text": [
      "<class 'pandas.core.frame.DataFrame'>\n",
      "RangeIndex: 17 entries, 0 to 16\n",
      "Data columns (total 4 columns):\n",
      " #   Column         Non-Null Count  Dtype \n",
      "---  ------         --------------  ----- \n",
      " 0   Kategori       17 non-null     object\n",
      " 1   Kondisi        17 non-null     object\n",
      " 2   Judul Artikel  17 non-null     object\n",
      " 3   Isi Artikel    17 non-null     object\n",
      "dtypes: object(4)\n",
      "memory usage: 672.0+ bytes\n"
     ]
    },
    {
     "data": {
      "application/vnd.microsoft.datawrangler.viewer.v0+json": {
       "columns": [
        {
         "name": "Kategori",
         "rawType": "object",
         "type": "string"
        },
        {
         "name": "count",
         "rawType": "int64",
         "type": "integer"
        }
       ],
       "ref": "02c57c19-c7ea-4c1e-82bf-ac483ad4812d",
       "rows": [
        [
         "Gula Darah Ibu Hamil (BS)",
         "3"
        ],
        [
         "Tekanan Darah Sistolik Ibu Hamil",
         "3"
        ],
        [
         "Tekanan Darah Diastolik Ibu Hamil",
         "3"
        ],
        [
         "Suhu Tubuh Ibu Hamil",
         "3"
        ],
        [
         "Denyut Jantung Ibu Hamil",
         "3"
        ],
        [
         "Usia Ibu Hamil",
         "2"
        ]
       ],
       "shape": {
        "columns": 1,
        "rows": 6
       }
      },
      "text/plain": [
       "Kategori\n",
       "Gula Darah Ibu Hamil (BS)            3\n",
       "Tekanan Darah Sistolik Ibu Hamil     3\n",
       "Tekanan Darah Diastolik Ibu Hamil    3\n",
       "Suhu Tubuh Ibu Hamil                 3\n",
       "Denyut Jantung Ibu Hamil             3\n",
       "Usia Ibu Hamil                       2\n",
       "Name: count, dtype: int64"
      ]
     },
     "execution_count": 3,
     "metadata": {},
     "output_type": "execute_result"
    }
   ],
   "source": [
    "# Mengeksplorasi kolom dan tipe data\n",
    "df_articles.info()\n",
    "\n",
    "# Memeriksa distribusi kategori artikel\n",
    "df_articles['Kategori'].value_counts()"
   ]
  },
  {
   "cell_type": "code",
   "execution_count": 4,
   "id": "36d76794",
   "metadata": {},
   "outputs": [
    {
     "data": {
      "application/vnd.microsoft.datawrangler.viewer.v0+json": {
       "columns": [
        {
         "name": "index",
         "rawType": "int64",
         "type": "integer"
        },
        {
         "name": "Judul Artikel",
         "rawType": "object",
         "type": "string"
        },
        {
         "name": "content",
         "rawType": "object",
         "type": "string"
        }
       ],
       "ref": "11dc5998-ba1e-484f-b90b-ead0c1cdc8fd",
       "rows": [
        [
         "0",
         "Kehamilan di Usia Remaja: Panduan Nutrisi dan Dukungan untuk Ibu Muda",
         "Usia Ibu Hamil Kurang dari 18 Tahun Kehamilan di Usia Remaja: Panduan Nutrisi dan Dukungan untuk Ibu Muda Kehamilan di usia remaja (<18 tahun) membawa tantangan dan kebutuhan unik. Tubuh ibu masih dalam masa pertumbuhan, sehingga asupan nutrisi yang optimal sangat penting untuk kesehatan ibu dan perkembangan janin. Fokus pada makanan kaya zat besi, kalsium, asam folat, dan protein. Selain itu, dukungan emosional dan informasi yang akurat dari keluarga dan tenaga kesehatan sangat krusial. Pastikan untuk melakukan pemeriksaan kehamilan rutin dan jangan ragu berkonsultasi mengenai perubahan tubuh, persiapan persalinan, dan perawatan bayi. Pendidikan kesehatan reproduksi dan gizi seimbang adalah kunci menjalani kehamilan yang sehat di usia muda."
        ],
        [
         "1",
         "Hamil di Atas 35 Tahun: Peluang dan Persiapan untuk Kehamilan yang Sehat",
         "Usia Ibu Hamil Lebih dari 35 Tahun Hamil di Atas 35 Tahun: Peluang dan Persiapan untuk Kehamilan yang Sehat Hamil di usia 35 tahun ke atas (sering disebut 'advanced maternal age') semakin umum dan banyak yang menjalaninya dengan sehat. Namun, penting untuk menyadari adanya beberapa potensi peningkatan risiko, seperti diabetes gestasional, tekanan darah tinggi, atau kelainan kromosom pada janin. Oleh karena itu, pemeriksaan antenatal yang lebih komprehensif dan terjadwal, termasuk skrining genetik jika direkomendasikan, menjadi penting. Gaya hidup sehat, termasuk diet seimbang, olahraga ringan yang disetujui dokter, dan istirahat cukup, sangat membantu. Diskusikan dengan dokter Anda mengenai rencana perawatan kehamilan yang paling sesuai untuk Anda."
        ],
        [
         "2",
         "Diabetes Gestasional: Kenali Gejala, Penyebab, dan Cara Mengelola Gula Darah Selama Kehamilan",
         "Gula Darah Ibu Hamil (BS) Tinggi (Contoh >126 mg/dL puasa atau >140 mg/dL 2 jam pp) Diabetes Gestasional: Kenali Gejala, Penyebab, dan Cara Mengelola Gula Darah Selama Kehamilan Kadar gula darah tinggi selama kehamilan bisa menjadi tanda Diabetes Gestasional Melitus (DGM). Kondisi ini terjadi karena perubahan hormonal yang mempengaruhi kerja insulin. Gejala DGM seringkali tidak spesifik, sehingga skrining rutin penting dilakukan. Jika terdiagnosis DGM, pengelolaan meliputi pengaturan pola makan sehat (rendah gula sederhana, tinggi serat), aktivitas fisik teratur sesuai anjuran dokter, dan pemantauan kadar gula darah mandiri. Terkadang, terapi insulin mungkin diperlukan. Mengelola DGM dengan baik penting untuk mencegah komplikasi pada ibu (seperti preeklampsia) dan bayi (seperti bayi besar atau hipoglikemia setelah lahir)."
        ],
        [
         "3",
         "Menjaga Gula Darah Stabil Selama Kehamilan: Tips Pola Makan dan Gaya Hidup Sehat",
         "Gula Darah Ibu Hamil (BS) Normal (Contoh puasa 70-100 mg/dL) Menjaga Gula Darah Stabil Selama Kehamilan: Tips Pola Makan dan Gaya Hidup Sehat Mempertahankan kadar gula darah normal selama kehamilan adalah kunci untuk kesehatan ibu dan perkembangan optimal janin. Ini dicapai melalui pola makan seimbang yang kaya akan buah-buahan, sayuran, biji-bijian utuh, dan protein tanpa lemak. Hindari minuman manis dan makanan olahan tinggi gula. Aktivitas fisik ringan hingga sedang yang aman untuk ibu hamil, seperti berjalan kaki atau berenang, juga membantu menjaga sensitivitas insulin. Pemeriksaan rutin sesuai jadwal dengan dokter Anda akan memastikan kadar gula darah tetap terpantau."
        ],
        [
         "4",
         "Hipoglikemia Saat Hamil: Penyebab, Gejala yang Perlu Diwaspadai, dan Penanganan Cepat",
         "Gula Darah Ibu Hamil (BS) Rendah (Contoh <70 mg/dL) Hipoglikemia Saat Hamil: Penyebab, Gejala yang Perlu Diwaspadai, dan Penanganan Cepat Meskipun kurang umum dibandingkan gula darah tinggi, hipoglikemia (kadar gula darah rendah) bisa terjadi pada ibu hamil, terutama jika ada kondisi medis tertentu atau efek samping pengobatan diabetes. Gejalanya bisa berupa pusing, gemetar, keringat dingin, kebingungan, atau jantung berdebar. Jika mengalami gejala ini, segera konsumsi sumber karbohidrat sederhana seperti jus buah atau permen. Penting untuk mengidentifikasi penyebabnya bersama dokter Anda untuk mencegah episode berulang dan memastikan pasokan glukosa yang cukup untuk janin."
        ]
       ],
       "shape": {
        "columns": 2,
        "rows": 5
       }
      },
      "text/html": [
       "<div>\n",
       "<style scoped>\n",
       "    .dataframe tbody tr th:only-of-type {\n",
       "        vertical-align: middle;\n",
       "    }\n",
       "\n",
       "    .dataframe tbody tr th {\n",
       "        vertical-align: top;\n",
       "    }\n",
       "\n",
       "    .dataframe thead th {\n",
       "        text-align: right;\n",
       "    }\n",
       "</style>\n",
       "<table border=\"1\" class=\"dataframe\">\n",
       "  <thead>\n",
       "    <tr style=\"text-align: right;\">\n",
       "      <th></th>\n",
       "      <th>Judul Artikel</th>\n",
       "      <th>content</th>\n",
       "    </tr>\n",
       "  </thead>\n",
       "  <tbody>\n",
       "    <tr>\n",
       "      <th>0</th>\n",
       "      <td>Kehamilan di Usia Remaja: Panduan Nutrisi dan ...</td>\n",
       "      <td>Usia Ibu Hamil Kurang dari 18 Tahun Kehamilan ...</td>\n",
       "    </tr>\n",
       "    <tr>\n",
       "      <th>1</th>\n",
       "      <td>Hamil di Atas 35 Tahun: Peluang dan Persiapan ...</td>\n",
       "      <td>Usia Ibu Hamil Lebih dari 35 Tahun Hamil di At...</td>\n",
       "    </tr>\n",
       "    <tr>\n",
       "      <th>2</th>\n",
       "      <td>Diabetes Gestasional: Kenali Gejala, Penyebab,...</td>\n",
       "      <td>Gula Darah Ibu Hamil (BS) Tinggi (Contoh &gt;126 ...</td>\n",
       "    </tr>\n",
       "    <tr>\n",
       "      <th>3</th>\n",
       "      <td>Menjaga Gula Darah Stabil Selama Kehamilan: Ti...</td>\n",
       "      <td>Gula Darah Ibu Hamil (BS) Normal (Contoh puasa...</td>\n",
       "    </tr>\n",
       "    <tr>\n",
       "      <th>4</th>\n",
       "      <td>Hipoglikemia Saat Hamil: Penyebab, Gejala yang...</td>\n",
       "      <td>Gula Darah Ibu Hamil (BS) Rendah (Contoh &lt;70 m...</td>\n",
       "    </tr>\n",
       "  </tbody>\n",
       "</table>\n",
       "</div>"
      ],
      "text/plain": [
       "                                       Judul Artikel  \\\n",
       "0  Kehamilan di Usia Remaja: Panduan Nutrisi dan ...   \n",
       "1  Hamil di Atas 35 Tahun: Peluang dan Persiapan ...   \n",
       "2  Diabetes Gestasional: Kenali Gejala, Penyebab,...   \n",
       "3  Menjaga Gula Darah Stabil Selama Kehamilan: Ti...   \n",
       "4  Hipoglikemia Saat Hamil: Penyebab, Gejala yang...   \n",
       "\n",
       "                                             content  \n",
       "0  Usia Ibu Hamil Kurang dari 18 Tahun Kehamilan ...  \n",
       "1  Usia Ibu Hamil Lebih dari 35 Tahun Hamil di At...  \n",
       "2  Gula Darah Ibu Hamil (BS) Tinggi (Contoh >126 ...  \n",
       "3  Gula Darah Ibu Hamil (BS) Normal (Contoh puasa...  \n",
       "4  Gula Darah Ibu Hamil (BS) Rendah (Contoh <70 m...  "
      ]
     },
     "execution_count": 4,
     "metadata": {},
     "output_type": "execute_result"
    }
   ],
   "source": [
    "# 📖 Menyiapkan kolom gabungan teks untuk analisis\n",
    "df_articles['content'] = df_articles['Kategori'] + \" \" + df_articles['Kondisi'] + \" \" + df_articles['Judul Artikel'] + \" \" + df_articles['Isi Artikel']\n",
    "df_articles[['Judul Artikel', 'content']].head()"
   ]
  },
  {
   "cell_type": "markdown",
   "id": "8f8741a7",
   "metadata": {},
   "source": [
    "## Data Preparation"
   ]
  },
  {
   "cell_type": "code",
   "execution_count": 8,
   "id": "a12bb702",
   "metadata": {},
   "outputs": [],
   "source": [
    "df_articles['content'] = (\n",
    "    df_articles['Kategori'].fillna('') + ' ' +\n",
    "    df_articles['Kondisi'].fillna('') + ' ' +\n",
    "    df_articles['Judul Artikel'].fillna('') + ' ' +\n",
    "    df_articles['Isi Artikel'].fillna('')\n",
    ")\n"
   ]
  },
  {
   "cell_type": "code",
   "execution_count": null,
   "id": "64338b00",
   "metadata": {},
   "outputs": [
    {
     "name": "stdout",
     "output_type": "stream",
     "text": [
      "                                             content  \\\n",
      "0  Usia Ibu Hamil Kurang dari 18 Tahun Kehamilan ...   \n",
      "1  Usia Ibu Hamil Lebih dari 35 Tahun Hamil di At...   \n",
      "2  Gula Darah Ibu Hamil (BS) Tinggi (Contoh >126 ...   \n",
      "3  Gula Darah Ibu Hamil (BS) Normal (Contoh puasa...   \n",
      "4  Gula Darah Ibu Hamil (BS) Rendah (Contoh <70 m...   \n",
      "\n",
      "                                       clean_content  \n",
      "0  usia ibu hamil kurang dari tahun kehamilan di ...  \n",
      "1  usia ibu hamil lebih dari tahun hamil di atas ...  \n",
      "2  gula darah ibu hamil bs tinggi contoh mgdl pua...  \n",
      "3  gula darah ibu hamil bs normal contoh puasa mg...  \n",
      "4  gula darah ibu hamil bs rendah contoh mgdl hip...  \n"
     ]
    }
   ],
   "source": [
    "def clean_text(text):\n",
    "    text = text.lower()\n",
    "    text = re.sub(r'[^a-z\\s]', '', text)\n",
    "    text = re.sub(r'\\s+', ' ', text).strip()\n",
    "    return text\n",
    "\n",
    "df_articles['clean_content'] = df_articles['content'].apply(clean_text)\n",
    "\n",
    "print(df_articles[['content', 'clean_content']].head())\n"
   ]
  },
  {
   "cell_type": "code",
   "execution_count": 13,
   "id": "b358d56f",
   "metadata": {},
   "outputs": [
    {
     "name": "stdout",
     "output_type": "stream",
     "text": [
      "Max sequence length: 110\n"
     ]
    }
   ],
   "source": [
    "texts = df_articles['clean_content'].tolist()\n",
    "\n",
    "# Atur tokenizer, misal vocab_size 5000\n",
    "vocab_size = 5000\n",
    "tokenizer = Tokenizer(num_words=vocab_size, oov_token='<OOV>')\n",
    "tokenizer.fit_on_texts(texts)\n",
    "\n",
    "sequences = tokenizer.texts_to_sequences(texts)\n",
    "\n",
    "max_len = max(len(seq) for seq in sequences)\n",
    "print(f\"Max sequence length: {max_len}\")"
   ]
  },
  {
   "cell_type": "code",
   "execution_count": null,
   "id": "68e0ccae",
   "metadata": {},
   "outputs": [
    {
     "name": "stdout",
     "output_type": "stream",
     "text": [
      "(17, 110)\n"
     ]
    }
   ],
   "source": [
    "padded_sequences = pad_sequences(sequences, maxlen=max_len, padding='post')\n",
    "\n",
    "print(padded_sequences.shape) # (jumlah artikel, max_len)"
   ]
  },
  {
   "cell_type": "markdown",
   "id": "9581410b",
   "metadata": {},
   "source": [
    "## Modelling"
   ]
  },
  {
   "cell_type": "code",
   "execution_count": 15,
   "id": "1cf2daa3",
   "metadata": {},
   "outputs": [],
   "source": [
    "embedding_dim = 50  # Dimensi embedding yang relatif kecil karena data terbatas\n",
    "\n",
    "# Model embedding + autoencoder sederhana (mencoba reconstruct teks)\n",
    "input_seq = Input(shape=(max_len,), name='input_seq')\n",
    "x = Embedding(vocab_size, embedding_dim, input_length=max_len, name='embedding')(input_seq)\n",
    "x = GlobalAveragePooling1D()(x)\n",
    "encoded = Dense(embedding_dim, activation='relu', name='encoded')(x)"
   ]
  },
  {
   "cell_type": "code",
   "execution_count": 16,
   "id": "6e69969a",
   "metadata": {},
   "outputs": [
    {
     "name": "stdout",
     "output_type": "stream",
     "text": [
      "Model: \"model\"\n",
      "_________________________________________________________________\n",
      " Layer (type)                Output Shape              Param #   \n",
      "=================================================================\n",
      " input_seq (InputLayer)      [(None, 110)]             0         \n",
      "                                                                 \n",
      " embedding (Embedding)       (None, 110, 50)           250000    \n",
      "                                                                 \n",
      " global_average_pooling1d (G  (None, 50)               0         \n",
      " lobalAveragePooling1D)                                          \n",
      "                                                                 \n",
      " encoded (Dense)             (None, 50)                2550      \n",
      "                                                                 \n",
      "=================================================================\n",
      "Total params: 252,550\n",
      "Trainable params: 252,550\n",
      "Non-trainable params: 0\n",
      "_________________________________________________________________\n",
      "None\n"
     ]
    }
   ],
   "source": [
    "# Decoder di-skip, output encoded jadi embedding representasi artikel\n",
    "model = Model(inputs=input_seq, outputs=encoded)\n",
    "model.compile(optimizer='adam', loss='mse')\n",
    "\n",
    "print(model.summary())"
   ]
  },
  {
   "cell_type": "code",
   "execution_count": 17,
   "id": "dd67dffa",
   "metadata": {},
   "outputs": [
    {
     "name": "stdout",
     "output_type": "stream",
     "text": [
      "Epoch 1/10\n",
      "3/3 [==============================] - 3s 7ms/step - loss: 0.3254\n",
      "Epoch 2/10\n",
      "3/3 [==============================] - 0s 11ms/step - loss: 0.3219\n",
      "Epoch 3/10\n",
      "3/3 [==============================] - 0s 8ms/step - loss: 0.3180\n",
      "Epoch 4/10\n",
      "3/3 [==============================] - 0s 8ms/step - loss: 0.3137\n",
      "Epoch 5/10\n",
      "3/3 [==============================] - 0s 8ms/step - loss: 0.3091\n",
      "Epoch 6/10\n",
      "3/3 [==============================] - 0s 7ms/step - loss: 0.3040\n",
      "Epoch 7/10\n",
      "3/3 [==============================] - 0s 5ms/step - loss: 0.2986\n",
      "Epoch 8/10\n",
      "3/3 [==============================] - 0s 7ms/step - loss: 0.2930\n",
      "Epoch 9/10\n",
      "3/3 [==============================] - 0s 7ms/step - loss: 0.2867\n",
      "Epoch 10/10\n",
      "3/3 [==============================] - 0s 6ms/step - loss: 0.2801\n"
     ]
    }
   ],
   "source": [
    "dummy_targets = np.random.rand(len(padded_sequences), embedding_dim)\n",
    "history = model.fit(\n",
    "    padded_sequences,\n",
    "    dummy_targets,\n",
    "    epochs=10,\n",
    "    batch_size=8,\n",
    "    verbose=1\n",
    ")"
   ]
  },
  {
   "cell_type": "markdown",
   "id": "650e7e17",
   "metadata": {},
   "source": [
    "## Evaluation"
   ]
  },
  {
   "cell_type": "code",
   "execution_count": 18,
   "id": "9573f29f",
   "metadata": {},
   "outputs": [
    {
     "name": "stdout",
     "output_type": "stream",
     "text": [
      "1/1 [==============================] - 0s 111ms/step\n",
      "Embedding shape: (17, 50)\n"
     ]
    }
   ],
   "source": [
    "article_embeddings = model.predict(padded_sequences)\n",
    "\n",
    "print(\"Embedding shape:\", article_embeddings.shape)"
   ]
  },
  {
   "cell_type": "code",
   "execution_count": 21,
   "id": "d1b372da",
   "metadata": {},
   "outputs": [
    {
     "data": {
      "image/png": "[encoded data removed]",
      "text/plain": [
       "<Figure size 800x600 with 1 Axes>"
      ]
     },
     "metadata": {},
     "output_type": "display_data"
    }
   ],
   "source": [
    "pca = PCA(n_components=2)\n",
    "emb_pca = pca.fit_transform(article_embeddings)\n",
    "\n",
    "plt.figure(figsize=(8,6))\n",
    "plt.scatter(emb_pca[:,0], emb_pca[:,1])\n",
    "plt.title('PCA dari Embedding Artikel')\n",
    "plt.xlabel('PC1')\n",
    "plt.ylabel('PC2')\n",
    "plt.show()"
   ]
  },
  {
   "cell_type": "markdown",
   "id": "e8ecb106",
   "metadata": {},
   "source": [
    "## Inference"
   ]
  },
  {
   "cell_type": "code",
   "execution_count": 22,
   "id": "d989b8b0",
   "metadata": {},
   "outputs": [],
   "source": [
    "def map_user_input_to_conditions(age, systolicBP, diastolicBP, bloodsugar, heartrate):\n",
    "    conditions = []\n",
    "    if age < 18:\n",
    "        conditions.append(\"usia ibu hamil kurang dari 18 tahun\")\n",
    "    elif age > 35:\n",
    "        conditions.append(\"usia ibu hamil lebih dari 35 tahun\")\n",
    "\n",
    "    if bloodsugar < 70:\n",
    "        conditions.append(\"gula darah ibu hamil rendah\")\n",
    "    elif 70 <= bloodsugar <= 100:\n",
    "        conditions.append(\"gula darah ibu hamil normal\")\n",
    "    else:\n",
    "        conditions.append(\"gula darah ibu hamil tinggi\")\n",
    "\n",
    "    if systolicBP < 90 or diastolicBP < 60:\n",
    "        conditions.append(\"tekanan darah ibu hamil rendah\")\n",
    "    elif (90 <= systolicBP <= 120) and (60 <= diastolicBP <= 80):\n",
    "        conditions.append(\"tekanan darah ibu hamil normal\")\n",
    "    else:\n",
    "        conditions.append(\"tekanan darah ibu hamil tinggi\")\n",
    "\n",
    "    if heartrate < 60:\n",
    "        conditions.append(\"detak jantung ibu hamil rendah\")\n",
    "    elif 60 <= heartrate <= 100:\n",
    "        conditions.append(\"detak jantung ibu hamil normal\")\n",
    "    else:\n",
    "        conditions.append(\"detak jantung ibu hamil tinggi\")\n",
    "\n",
    "    return \" \".join(conditions)"
   ]
  },
  {
   "cell_type": "code",
   "execution_count": 28,
   "id": "deadb3b0",
   "metadata": {},
   "outputs": [],
   "source": [
    "def recommend_articles(user_input, tokenizer, model, max_len, df_articles, article_embeddings, top_n=3):\n",
    "    user_profile_text = map_user_input_to_conditions(\n",
    "        user_input['age'],\n",
    "        user_input['systolicBP'],\n",
    "        user_input['diastolicBP'],\n",
    "        user_input['bloodsugar'],\n",
    "        user_input['heartrate']\n",
    "    )\n",
    "    if not user_profile_text:\n",
    "        print(\"Tidak ada kondisi relevan dari input pengguna.\")\n",
    "        return pd.DataFrame()\n",
    "    \n",
    "    # Preprocessing user profile sama seperti artikel\n",
    "    user_text_clean = clean_text(user_profile_text)\n",
    "    seq = tokenizer.texts_to_sequences([user_text_clean])\n",
    "    padded_seq = pad_sequences(seq, maxlen=max_len, padding='post')\n",
    "\n",
    "    # Prediksi embedding user\n",
    "    user_emb = model.predict(padded_seq)\n",
    "\n",
    "    # Hitung similarity\n",
    "    sims = cosine_similarity(user_emb, article_embeddings).flatten()\n",
    "\n",
    "    # Ambil indeks top N artikel\n",
    "    top_indices = sims.argsort()[::-1][:top_n]\n",
    "\n",
    "    recommended = df_articles.iloc[top_indices].copy()\n",
    "    recommended['Similarity'] = sims[top_indices]\n",
    "\n",
    "    return recommended[['Judul Artikel', 'Kategori', 'Kondisi', 'Similarity', 'Isi Artikel']]\n"
   ]
  },
  {
   "cell_type": "code",
   "execution_count": 29,
   "id": "c3090759",
   "metadata": {},
   "outputs": [
    {
     "name": "stdout",
     "output_type": "stream",
     "text": [
      "1/1 [==============================] - 0s 21ms/step\n",
      "\n",
      "Artikel Rekomendasi untuk input pengguna:\n",
      "- Suhu Tubuh Normal: Indikator Kesehatan Ibu Hamil yang Baik (Kategori: Suhu Tubuh Ibu Hamil, Kondisi: Normal (Contoh 36.5 - 37.2°C))\n",
      "  Similarity: 0.997\n",
      "  Ringkasan: Suhu tubuh yang stabil dalam rentang normal (36.5 - 37.2°C) adalah salah satu tanda bahwa tubuh Anda berfungsi dengan baik dan bebas dari infeksi akut...\n",
      "\n",
      "- Memahami Tekanan Darah Diastolik Rendah Selama Masa Kehamilan (Kategori: Tekanan Darah Diastolik Ibu Hamil, Kondisi: Rendah (Contoh <60 mmHg))\n",
      "  Similarity: 0.996\n",
      "  Ringkasan: Tekanan darah diastolik di bawah 60 mmHg bisa menjadi bagian dari perubahan fisiologis selama kehamilan, namun jika disertai keluhan signifikan sepert...\n",
      "\n",
      "- Diastolik Normal, Jantung Sehat: Jaga Tekanan Darah Optimal Selama Kehamilan (Kategori: Tekanan Darah Diastolik Ibu Hamil, Kondisi: Normal (Contoh 60-80 mmHg))\n",
      "  Similarity: 0.996\n",
      "  Ringkasan: Tekanan darah diastolik yang berada dalam rentang normal (60-80 mmHg) menunjukkan fleksibilitas pembuluh darah yang baik saat jantung beristirahat di ...\n",
      "\n"
     ]
    }
   ],
   "source": [
    "user_input_example = {\n",
    "    'age': 17,\n",
    "    'systolicBP': 115,\n",
    "    'diastolicBP': 75,\n",
    "    'bloodsugar': 150,\n",
    "    'heartrate': 90\n",
    "}\n",
    "\n",
    "recommended_df = recommend_articles(user_input_example, tokenizer, model, max_len, df_articles, article_embeddings)\n",
    "\n",
    "print(\"\\nArtikel Rekomendasi untuk input pengguna:\")\n",
    "for idx, row in recommended_df.iterrows():\n",
    "    print(f\"- {row['Judul Artikel']} (Kategori: {row['Kategori']}, Kondisi: {row['Kondisi']})\")\n",
    "    print(f\"  Similarity: {row['Similarity']:.3f}\")\n",
    "    print(f\"  Ringkasan: {row['Isi Artikel'][:150]}...\\n\")"
   ]
  }
 ],
 "metadata": {
  "kernelspec": {
   "display_name": "tf",
   "language": "python",
   "name": "python3"
  },
  "language_info": {
   "codemirror_mode": {
    "name": "ipython",
    "version": 3
   },
   "file_extension": ".py",
   "mimetype": "text/x-python",
   "name": "python",
   "nbconvert_exporter": "python",
   "pygments_lexer": "ipython3",
   "version": "3.9.21"
  }
 },
 "nbformat": 4,
 "nbformat_minor": 5
}
