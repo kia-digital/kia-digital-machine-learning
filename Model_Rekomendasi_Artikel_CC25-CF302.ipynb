{
  "cells": [
    {
      "cell_type": "markdown",
      "metadata": {
        "id": "OWIW-BpRpF8t"
      },
      "source": [
        "# 🩺 **Sistem Rekomendasi Artikel Berdasarkan Kondisi Kesehatan Menggunakan MLP**"
      ]
    },
    {
      "cell_type": "markdown",
      "metadata": {
        "id": "xztZ6i3KpLlJ"
      },
      "source": [
        "## **Deskripsi Proyek**\n",
        "\n",
        "Proyek ini bertujuan membangun sistem rekomendasi artikel kesehatan berbasis kondisi pengguna. Sistem memanfaatkan data medis seperti tekanan darah, gula darah, suhu tubuh, trimester kehamilan, dan gejala-gejala umum (misalnya pusing, diare, sulit tidur), kemudian memprediksi kondisi kesehatan pengguna dan merekomendasikan artikel yang relevan berdasarkan tag.\n"
      ]
    },
    {
      "cell_type": "markdown",
      "metadata": {
        "id": "RN6uE0V-p3Ib"
      },
      "source": [
        "### **Imports**"
      ]
    },
    {
      "cell_type": "code",
      "execution_count": 1,
      "metadata": {
        "id": "_NAm7EU_INPQ"
      },
      "outputs": [],
      "source": [
        "import pandas as pd\n",
        "import numpy as np\n",
        "import random\n",
        "\n",
        "from sklearn.model_selection import train_test_split\n",
        "from sklearn.preprocessing import StandardScaler, MultiLabelBinarizer\n",
        "from sklearn.metrics import f1_score, precision_score, recall_score\n",
        "import tensorflow as tf\n",
        "from tensorflow.keras.models import Sequential\n",
        "from tensorflow.keras.layers import Dense, Input\n",
        "import matplotlib.pyplot as plt"
      ]
    },
    {
      "cell_type": "markdown",
      "metadata": {
        "id": "ukMvj-lwqn1k"
      },
      "source": [
        "## **Dataset**"
      ]
    },
    {
      "cell_type": "markdown",
      "metadata": {
        "id": "TKGqgCTop7dZ"
      },
      "source": [
        "### **Dataset Artikel**"
      ]
    },
    {
      "cell_type": "code",
      "execution_count": 2,
      "metadata": {
        "colab": {
          "base_uri": "https://localhost:8080/",
          "height": 73
        },
        "id": "-JWw8vm6qOb4",
        "outputId": "bf6c0901-7979-4526-88ef-bd5ad5e2a921"
      },
      "outputs": [],
      "source": [
        "# from google.colab import files\n",
        "# uploaded = files.upload()"
      ]
    },
    {
      "cell_type": "code",
      "execution_count": 3,
      "metadata": {
        "colab": {
          "base_uri": "https://localhost:8080/",
          "height": 206
        },
        "id": "zhvv5tS21ZTV",
        "outputId": "4656c84f-43ce-42e6-a8cd-79206d34cd0b"
      },
      "outputs": [
        {
          "data": {
            "application/vnd.microsoft.datawrangler.viewer.v0+json": {
              "columns": [
                {
                  "name": "index",
                  "rawType": "int64",
                  "type": "integer"
                },
                {
                  "name": "id",
                  "rawType": "int64",
                  "type": "integer"
                },
                {
                  "name": "judul",
                  "rawType": "object",
                  "type": "string"
                },
                {
                  "name": "kategori",
                  "rawType": "object",
                  "type": "string"
                },
                {
                  "name": "deskripsi",
                  "rawType": "object",
                  "type": "string"
                },
                {
                  "name": "content",
                  "rawType": "object",
                  "type": "string"
                },
                {
                  "name": "tag",
                  "rawType": "object",
                  "type": "string"
                }
              ],
              "ref": "e51b18d4-2c3f-4339-9a3f-a5268398a7be",
              "rows": [
                [
                  "0",
                  "1",
                  "Mengatasi Rasa Lelah yang Tak Tertahankan",
                  "Kesehatan Ibu Hamil",
                  "Strategi mengelola fatigue ekstrim selama kehamilan.",
                  "<p>Kehamilan adalah masa penuh harapan dan keajaiban, tetapi juga bisa menjadi waktu yang sangat melelahkan. Banyak ibu hamil mengalami kelelahan yang luar biasa, terutama di trimester pertama dan ketiga. Rasa lelah ini bukan hanya karena perubahan fisik, tapi juga karena lonjakan hormon dan tuntutan emosional yang menyertainya.</p>\r\n\r\n<h3>Apa Itu Fatigue Ekstrem pada Ibu Hamil?</h3>\r\n\r\n<p><em>Fatigue</em> atau kelelahan selama kehamilan adalah hal yang umum, tetapi ketika rasa lelah menjadi begitu intens hingga mengganggu aktivitas sehari-hari, bisa jadi itu termasuk <strong>fatigue ekstrem</strong>. Ini bukan sekadar rasa mengantuk biasa — tubuh bisa terasa berat, konsentrasi menurun, dan emosi jadi tidak stabil.</p>\r\n\r\n<p>Beberapa penyebab utama fatigue ekstrem meliputi:</p>\r\n<ul>\r\n  <li><strong>Perubahan hormon (terutama progesteron)</strong></li>\r\n  <li><strong>Peningkatan beban kerja jantung dan sistem peredaran darah</strong></li>\r\n  <li><strong>Kualitas tidur menurun</strong></li>\r\n  <li><strong>Anemia kehamilan</strong></li>\r\n  <li><strong>Morning sickness parah</strong></li>\r\n  <li><strong>Stres emosional dan kecemasan menjelang persalinan</strong></li>\r\n</ul>\r\n\r\n<h3>Strategi Efektif Mengelola Rasa Lelah Selama Kehamilan</h3>\r\n\r\n<h4>1. <strong>Beristirahat Secara Teratur</strong></h4>\r\n<p>Jangan menunggu sampai tubuh benar-benar kelelahan untuk beristirahat. Jika memungkinkan, tidur siang 20–30 menit bisa membantu menyegarkan tubuh dan pikiran. Pastikan juga Anda cukup tidur di malam hari (idealnya 7–9 jam).</p>\r\n\r\n<h4>2. <strong>Pola Makan Seimbang dan Sering</strong></h4>\r\n<p>Kehamilan membutuhkan lebih banyak energi. Konsumsilah makanan tinggi protein, zat besi, dan karbohidrat kompleks. Makan dalam porsi kecil tapi sering bisa menjaga kadar gula darah tetap stabil dan mengurangi rasa lemas.</p>\r\n\r\n<h4>3. <strong>Cukupi Asupan Zat Besi</strong></h4>\r\n<p>Anemia karena kekurangan zat besi adalah salah satu penyebab utama kelelahan ekstrem pada ibu hamil. Perbanyak makanan seperti bayam, daging merah, kacang-kacangan, atau suplemen zat besi sesuai anjuran dokter.</p>\r\n\r\n<h4>4. <strong>Tetap Aktif, Tapi Jangan Berlebihan</strong></h4>\r\n<p>Aktivitas fisik ringan seperti jalan kaki atau prenatal yoga bisa membantu meningkatkan energi dan suasana hati. Hindari olahraga berat yang justru memperburuk rasa lelah.</p>\r\n\r\n<h4>5. <strong>Minimalkan Stres dan Tekanan Emosional</strong></h4>\r\n<p>Tekanan mental bisa memperparah rasa lelah. Luangkan waktu untuk hal-hal yang menenangkan seperti mendengarkan musik lembut, membaca buku, atau meditasi.</p>\r\n\r\n<h4>6. <strong>Komunikasi dengan Pasangan dan Keluarga</strong></h4>\r\n<p>Jangan ragu meminta bantuan. Dukungan emosional dan fisik dari orang terdekat sangat penting untuk mengurangi beban kelelahan yang dirasakan.</p>\r\n\r\n<h4>7. <strong>Konsultasi dengan Tenaga Kesehatan</strong></h4>\r\n<p>Jika rasa lelah tidak membaik bahkan setelah beristirahat cukup, penting untuk berkonsultasi ke bidan atau dokter. Bisa jadi ada kondisi medis lain yang mendasari, seperti anemia berat, gangguan tiroid, atau depresi prenatal.</p>\r\n\r\n<h3>Kesimpulan</h3>\r\n<p>Mengatasi rasa lelah selama kehamilan bukan soal “menahan” atau “melawan” tubuh, melainkan tentang mendengarkan kebutuhan tubuh dengan bijak. Kehamilan adalah fase di mana tubuh bekerja dua kali lebih keras dari biasanya, jadi izinkan diri Anda untuk istirahat, memperlambat ritme, dan mengutamakan kesehatan diri serta bayi dalam kandungan.</p>\r\n\r\n<p>Tidak perlu merasa bersalah jika Anda ingin diam sejenak, melepas lelah, atau menolak aktivitas yang menguras energi. Ingat, merawat diri sendiri selama hamil adalah langkah awal dalam merawat anak yang akan lahir nanti.</p>\r",
                  "bradikardia|gula_darah_rendah"
                ],
                [
                  "1",
                  "2",
                  "Demam Berkepanjangan - Kapan Harus Ke Dokter?",
                  "Kesehatan Ibu Hamil",
                  "Membedakan demam biasa dengan infeksi serius.",
                  "<p>Demam selama kehamilan bisa menjadi hal yang mengkhawatirkan, terutama jika berlangsung lama atau disertai gejala lain. Meskipun sebagian besar demam disebabkan oleh infeksi ringan, penting bagi ibu hamil untuk memahami kapan demam merupakan tanda bahaya dan membutuhkan penanganan medis segera.</p>\r\n\r\n<h3>Mengapa Demam Selama Kehamilan Perlu Diwaspadai?</h3>\r\n<p>Selama kehamilan, sistem kekebalan tubuh ibu mengalami perubahan. Ini membuat tubuh lebih rentan terhadap infeksi. Selain itu, demam yang tidak ditangani dengan baik bisa berpengaruh pada janin, terutama pada trimester pertama saat organ vital sedang berkembang.</p>\r\n\r\n<h3>Penyebab Umum Demam pada Ibu Hamil</h3>\r\n<ul>\r\n  <li><strong>Infeksi saluran pernapasan atas</strong> seperti flu atau pilek</li>\r\n  <li><strong>Infeksi saluran kemih (ISK)</strong>, yang umum terjadi selama kehamilan</li>\r\n  <li><strong>Infeksi pencernaan</strong> akibat makanan yang terkontaminasi</li>\r\n  <li><strong>Infeksi virus</strong> seperti rubella, cytomegalovirus (CMV), atau COVID-19</li>\r\n</ul>\r\n\r\n<h3>Kapan Harus Segera Ke Dokter?</h3>\r\n<p>Segera konsultasikan dengan dokter jika mengalami salah satu dari hal berikut:</p>\r\n<ul>\r\n  <li>Demam mencapai <strong>38,5°C atau lebih</strong> dan tidak turun dengan istirahat atau obat penurun panas</li>\r\n  <li>Demam berlangsung lebih dari <strong>2 hari</strong></li>\r\n  <li>Disertai <strong>nyeri perut hebat, nyeri saat buang air kecil, atau keputihan tidak normal</strong></li>\r\n  <li>Disertai <strong>ruam kulit, sesak napas, batuk parah, atau muntah terus-menerus</strong></li>\r\n  <li>Janin <strong>tidak bergerak seperti biasanya</strong> (pada usia kehamilan yang sudah terasa gerakan)</li>\r\n</ul>\r\n\r\n<h3>Langkah Pertolongan Pertama di Rumah</h3>\r\n<p>Jika demam baru mulai dan tidak menunjukkan tanda bahaya, ibu hamil bisa melakukan langkah berikut sambil tetap memantau kondisi:</p>\r\n<ol>\r\n  <li><strong>Perbanyak minum air putih</strong> untuk mencegah dehidrasi</li>\r\n  <li><strong>Istirahat cukup</strong> agar tubuh bisa melawan infeksi</li>\r\n  <li><strong>Kompres hangat</strong> (bukan dingin) di dahi, ketiak, atau lipatan paha</li>\r\n  <li><strong>Konsumsi makanan bergizi</strong> untuk membantu proses pemulihan</li>\r\n  <li><strong>Minum obat penurun panas (parasetamol)</strong> sesuai anjuran dokter</li>\r\n</ol>\r\n\r\n<h3>Perhatikan Konsumsi Obat</h3>\r\n<p>Tidak semua obat penurun demam aman bagi ibu hamil. Hindari penggunaan ibuprofen atau aspirin tanpa konsultasi. Parasetamol umumnya dianggap aman, namun dosis dan frekuensi tetap harus sesuai petunjuk tenaga medis.</p>\r\n\r\n<h3>Kesimpulan</h3>\r\n<p>Demam saat hamil memang tidak selalu berbahaya, tapi tetap tidak boleh disepelekan. Mengenali perbedaan antara demam ringan dan gejala infeksi serius dapat membantu ibu hamil mendapatkan penanganan yang tepat waktu.</p>\r\n\r\n<p>Jika ragu atau merasa tidak nyaman, jangan tunda untuk berkonsultasi ke dokter. Lebih baik waspada dan aman daripada menunda dan menyesal. Kesehatan ibu dan janin adalah prioritas utama.</p>\r",
                  "demam_lebih_2_hari"
                ],
                [
                  "2",
                  "3",
                  "Diare Tak Kunjung Berhenti - Solusi Aman",
                  "Gangguan Pencernaan",
                  "Penanganan diare kronis tanpa membahayakan janin.",
                  "<p>Diare adalah salah satu keluhan pencernaan yang sering dialami ibu hamil. Meskipun biasanya bersifat ringan dan sementara, diare yang berlangsung terus-menerus atau kronis dapat menjadi masalah serius, terutama jika menyebabkan dehidrasi atau berdampak pada kesehatan janin. Oleh karena itu, penting untuk mengetahui cara menangani diare secara aman selama kehamilan.</p>\r\n\r\n<h3>Mengapa Ibu Hamil Rentan Diare?</h3>\r\n<p>Selama kehamilan, tubuh mengalami banyak perubahan yang dapat memengaruhi sistem pencernaan. Beberapa penyebab umum diare saat hamil antara lain:</p>\r\n<ul>\r\n  <li><strong>Perubahan hormon</strong> yang mempercepat gerakan usus</li>\r\n  <li><strong>Perubahan pola makan</strong> atau konsumsi makanan baru</li>\r\n  <li><strong>Sensitivitas terhadap makanan</strong> tertentu yang meningkat</li>\r\n  <li><strong>Infeksi virus, bakteri, atau parasit</strong></li>\r\n  <li><strong>Efek samping suplemen atau obat</strong> tertentu</li>\r\n</ul>\r\n\r\n<h3>Kapan Diare Harus Diwaspadai?</h3>\r\n<p>Tidak semua diare berbahaya, namun segera hubungi tenaga medis jika mengalami kondisi berikut:</p>\r\n<ul>\r\n  <li>Diare berlangsung lebih dari <strong>2 hari</strong> tanpa membaik</li>\r\n  <li>Tinja <strong>berdarah</strong> atau berwarna sangat gelap</li>\r\n  <li>Disertai <strong>demam tinggi, kram perut hebat, atau muntah terus-menerus</strong></li>\r\n  <li><strong>Tanda-tanda dehidrasi</strong> seperti bibir kering, jarang buang air kecil, atau pusing saat berdiri</li>\r\n  <li><strong>Penurunan berat badan drastis</strong> atau janin terasa kurang aktif</li>\r\n</ul>\r\n\r\n<h3>Solusi Aman untuk Mengatasi Diare Selama Kehamilan</h3>\r\n\r\n<h4>1. <strong>Perbanyak Cairan</strong></h4>\r\n<p>Dehidrasi adalah risiko utama dari diare. Minumlah air putih, cairan elektrolit, atau oralit untuk menggantikan cairan yang hilang. Hindari minuman berkafein dan bersoda.</p>\r\n\r\n<h4>2. <strong>Konsumsi Makanan Lunak dan Mudah Dicerna</strong></h4>\r\n<p>Berikan waktu bagi saluran cerna untuk pulih. Pilih makanan seperti bubur, nasi putih, pisang, kentang rebus, atau roti tawar. Hindari makanan berlemak, pedas, dan berserat tinggi sementara waktu.</p>\r\n\r\n<h4>3. <strong>Hindari Makanan Penyebab Diare</strong></h4>\r\n<p>Jika diare disebabkan alergi makanan atau intoleransi laktosa, hentikan konsumsi makanan pemicu seperti susu, makanan mentah, atau makanan laut yang tidak segar.</p>\r\n\r\n<h4>4. <strong>Konsultasi Obat yang Aman</strong></h4>\r\n<p>Jangan mengonsumsi obat antidiare tanpa saran dokter. Beberapa obat bisa mengganggu kehamilan. Jika memang diperlukan, dokter akan memberikan obat yang aman untuk ibu dan janin.</p>\r\n\r\n<h4>5. <strong>Perhatikan Suplemen dan Vitamin</strong></h4>\r\n<p>Jika diare muncul setelah mulai mengonsumsi suplemen tertentu (seperti zat besi), konsultasikan pada dokter untuk mengganti jenis atau dosis suplemennya.</p>\r\n\r\n<h3>Mencegah Diare Selama Kehamilan</h3>\r\n<ul>\r\n  <li>Pastikan <strong>makanan dan minuman bersih dan matang sempurna</strong></li>\r\n  <li>Rajin <strong>mencuci tangan</strong> sebelum makan dan setelah dari toilet</li>\r\n  <li>Hindari makan di tempat yang tidak terjamin kebersihannya</li>\r\n  <li>Jangan konsumsi produk susu yang tidak dipasteurisasi</li>\r\n</ul>\r\n\r\n<h3>Kesimpulan</h3>\r\n<p>Diare selama kehamilan bukan hal yang bisa disepelekan, apalagi jika terjadi berkepanjangan. Menangani diare dengan langkah yang tepat dan aman akan membantu menjaga kesehatan ibu dan janin. Jika gejala tidak kunjung membaik, jangan ragu untuk mencari bantuan medis. Lebih baik waspada daripada mengambil risiko yang bisa membahayakan kehamilan.</p>\r\n",
                  "diare_berulang"
                ],
                [
                  "3",
                  "4",
                  "Ngidam Manis di Malam Hari - Amankah?",
                  "Nutrisi Ibu Hamil",
                  "Mengelola keinginan makan manis secara sehat.",
                  "<p>Ngidam makanan manis di malam hari merupakan fenomena yang umum dialami oleh ibu hamil. Keinginan tiba-tiba untuk makan cokelat, es krim, atau kue bisa muncul tanpa diduga, terutama di tengah malam. Namun, apakah kebiasaan ini aman? Dan bagaimana cara mengelolanya agar tetap sehat bagi ibu dan janin?</p>\r\n\r\n<h3>Mengapa Ngidam Manis Terjadi?</h3>\r\n<p>Ngidam selama kehamilan adalah hal yang wajar. Kondisi ini dapat disebabkan oleh beberapa faktor, seperti:</p>\r\n<ul>\r\n  <li><strong>Perubahan hormon</strong> yang memengaruhi indra penciuman dan rasa</li>\r\n  <li><strong>Fluktuasi kadar gula darah</strong></li>\r\n  <li><strong>Kebutuhan emosional</strong> atau keinginan untuk merasa nyaman</li>\r\n  <li><strong>Kurangnya asupan nutrisi tertentu</strong>, seperti magnesium atau triptofan</li>\r\n</ul>\r\n\r\n<h3>Amankah Mengonsumsi Makanan Manis di Malam Hari?</h3>\r\n<p>Sekali-sekali mengonsumsi makanan manis tidak menjadi masalah, selama tidak berlebihan. Namun, kebiasaan makan manis secara rutin di malam hari dapat menimbulkan risiko seperti:</p>\r\n<ul>\r\n  <li><strong>Kenaikan berat badan berlebih</strong> selama kehamilan</li>\r\n  <li><strong>Gangguan tidur</strong> akibat lonjakan gula darah</li>\r\n  <li><strong>Risiko diabetes gestasional</strong> yang lebih tinggi</li>\r\n</ul>\r\n\r\n<h3>Cara Sehat Mengelola Ngidam Manis</h3>\r\n\r\n<h4>1. <strong>Pilih Cemilan Manis yang Sehat</strong></h4>\r\n<p>Ganti makanan tinggi gula dengan opsi yang lebih sehat, seperti:</p>\r\n<ul>\r\n  <li>Buah segar atau kering (dalam jumlah moderat)</li>\r\n  <li>Yogurt rendah lemak dengan madu alami</li>\r\n  <li>Dark chocolate minimal 70% kakao</li>\r\n  <li>Puding chia dengan susu almond dan buah</li>\r\n</ul>\r\n\r\n<h4>2. <strong>Jangan Lewatkan Makan Malam</strong></h4>\r\n<p>Melewatkan makan malam dapat memicu lapar berlebih dan ngidam di malam hari. Pastikan makan malam mencakup protein, serat, dan karbohidrat kompleks agar kenyang lebih lama.</p>\r\n\r\n<h4>3. <strong>Minum Air Putih Sebelum Mengunyah</strong></h4>\r\n<p>Terkadang tubuh salah mengartikan rasa haus sebagai rasa lapar. Minum segelas air sebelum memutuskan ngemil dapat membantu mengurangi keinginan makan manis.</p>\r\n\r\n<h4>4. <strong>Tentukan Waktu dan Batasan</strong></h4>\r\n<p>Jika tetap ingin ngemil, tetapkan batas waktu dan porsi. Misalnya, hanya ngemil ringan sebelum pukul 9 malam dan dalam porsi kecil.</p>\r\n\r\n<h4>5. <strong>Kelola Emosi dan Stres</strong></h4>\r\n<p>Ngidam manis bisa jadi pelampiasan stres. Lakukan aktivitas yang menenangkan seperti membaca, mandi air hangat, atau meditasi sebelum tidur untuk mengurangi keinginan ngemil berlebih.</p>\r\n\r\n<h3>Kapan Harus Waspada?</h3>\r\n<p>Jika ngidam manis disertai dengan gejala seperti sering haus, sering buang air kecil, atau kenaikan berat badan yang tidak terkendali, sebaiknya periksakan ke dokter. Bisa jadi ini merupakan tanda awal diabetes gestasional.</p>\r\n\r\n<h3>Kesimpulan</h3>\r\n<p>Ngidam manis di malam hari adalah hal yang umum dalam kehamilan, namun tetap perlu dikendalikan agar tidak mengganggu kesehatan ibu dan janin. Dengan memilih cemilan sehat dan menerapkan kebiasaan makan yang baik, ibu hamil tetap bisa menikmati ngidam tanpa rasa khawatir.</p>\r",
                  "gula_darah_tinggi"
                ],
                [
                  "4",
                  "5",
                  "Keringat Dingin dan Gemetar Tiba-tiba",
                  "Kesehatan Ibu Hamil",
                  "Mengenali gejala hipoglikemia darurat.",
                  "<p>Selama kehamilan, tubuh mengalami berbagai perubahan metabolik yang bisa memengaruhi kadar gula darah. Salah satu kondisi yang jarang disadari namun bisa berbahaya adalah hipoglikemia — kadar gula darah yang turun secara drastis. Gejala seperti keringat dingin dan gemetar secara tiba-tiba bisa menjadi tanda peringatan bahwa tubuh sedang mengalami krisis energi dan membutuhkan penanganan segera.</p>\r\n\r\n<h3>Apa Itu Hipoglikemia?</h3>\r\n<p>Hipoglikemia terjadi saat kadar gula darah turun di bawah normal (umumnya < 70 mg/dL). Gula darah merupakan sumber energi utama bagi tubuh, termasuk otak. Ketika kadar gula terlalu rendah, fungsi tubuh bisa terganggu secara serius.</p>\r\n\r\n<h3>Penyebab Hipoglikemia pada Ibu Hamil</h3>\r\n<ul>\r\n  <li><strong>Telat makan</strong> atau tidak makan cukup karbohidrat</li>\r\n  <li><strong>Aktivitas fisik berlebihan</strong> tanpa asupan energi yang seimbang</li>\r\n  <li><strong>Pengaruh insulin atau obat diabetes</strong> (bagi penderita diabetes gestasional)</li>\r\n  <li><strong>Gangguan metabolik</strong> tertentu selama kehamilan</li>\r\n</ul>\r\n\r\n<h3>Gejala Hipoglikemia yang Perlu Diwaspadai</h3>\r\n<p>Beberapa tanda umum hipoglikemia meliputi:</p>\r\n<ul>\r\n  <li>Keringat dingin mendadak</li>\r\n  <li>Gemetar atau tubuh lemas</li>\r\n  <li>Pusing atau seperti mau pingsan</li>\r\n  <li>Jantung berdebar cepat</li>\r\n  <li>Kesulitan berkonsentrasi atau merasa bingung</li>\r\n  <li>Penglihatan kabur</li>\r\n  <li>Kelaparan ekstrem mendadak</li>\r\n</ul>\r\n\r\n<h3>Apa yang Harus Dilakukan Saat Mengalami Gejala?</h3>\r\n<p>Jika muncul tanda-tanda hipoglikemia, segera lakukan langkah pertolongan berikut:</p>\r\n<ol>\r\n  <li><strong>Konsumsi makanan/minuman manis</strong> yang mudah diserap seperti jus buah, teh manis, atau permen</li>\r\n  <li><strong>Istirahatkan tubuh</strong> di tempat aman dan nyaman</li>\r\n  <li><strong>Periksa kembali kondisi setelah 15 menit</strong>. Jika belum membaik, konsumsi sumber gula sederhana lagi</li>\r\n  <li><strong>Segera makan makanan berat</strong> setelah gejala mereda untuk menstabilkan gula darah</li>\r\n</ol>\r\n\r\n<h3>Kapan Harus ke Dokter?</h3>\r\n<p>Segera periksakan diri ke dokter jika:</p>\r\n<ul>\r\n  <li>Gejala hipoglikemia sering terjadi</li>\r\n  <li>Disertai kehilangan kesadaran atau kejang</li>\r\n  <li>Mengalami kesulitan makan akibat mual hebat</li>\r\n  <li>Memiliki riwayat diabetes atau sedang dalam pengobatan terkait gula darah</li>\r\n</ul>\r\n\r\n<h3>Pencegahan Hipoglikemia Selama Kehamilan</h3>\r\n<ul>\r\n  <li>Makan secara teratur dengan porsi seimbang</li>\r\n  <li>Selalu sediakan cemilan sehat, terutama saat bepergian</li>\r\n  <li>Hindari aktivitas fisik berat tanpa asupan energi cukup</li>\r\n  <li>Diskusikan dengan dokter jika Anda memiliki diabetes gestasional</li>\r\n</ul>\r\n\r\n<h3>Kesimpulan</h3>\r\n<p>Keringat dingin dan gemetar mendadak bukanlah hal sepele selama kehamilan. Ini bisa menjadi sinyal tubuh sedang mengalami hipoglikemia, yang dapat membahayakan ibu dan janin jika tidak segera ditangani. Dengan pemahaman yang baik dan penanganan cepat, kondisi ini dapat dicegah dan dikendalikan secara aman.</p>\r",
                  "gula_darah_rendah"
                ]
              ],
              "shape": {
                "columns": 6,
                "rows": 5
              }
            },
            "text/html": [
              "<div>\n",
              "<style scoped>\n",
              "    .dataframe tbody tr th:only-of-type {\n",
              "        vertical-align: middle;\n",
              "    }\n",
              "\n",
              "    .dataframe tbody tr th {\n",
              "        vertical-align: top;\n",
              "    }\n",
              "\n",
              "    .dataframe thead th {\n",
              "        text-align: right;\n",
              "    }\n",
              "</style>\n",
              "<table border=\"1\" class=\"dataframe\">\n",
              "  <thead>\n",
              "    <tr style=\"text-align: right;\">\n",
              "      <th></th>\n",
              "      <th>id</th>\n",
              "      <th>judul</th>\n",
              "      <th>kategori</th>\n",
              "      <th>deskripsi</th>\n",
              "      <th>content</th>\n",
              "      <th>tag</th>\n",
              "    </tr>\n",
              "  </thead>\n",
              "  <tbody>\n",
              "    <tr>\n",
              "      <th>0</th>\n",
              "      <td>1</td>\n",
              "      <td>Mengatasi Rasa Lelah yang Tak Tertahankan</td>\n",
              "      <td>Kesehatan Ibu Hamil</td>\n",
              "      <td>Strategi mengelola fatigue ekstrim selama keha...</td>\n",
              "      <td>&lt;p&gt;Kehamilan adalah masa penuh harapan dan kea...</td>\n",
              "      <td>bradikardia|gula_darah_rendah</td>\n",
              "    </tr>\n",
              "    <tr>\n",
              "      <th>1</th>\n",
              "      <td>2</td>\n",
              "      <td>Demam Berkepanjangan - Kapan Harus Ke Dokter?</td>\n",
              "      <td>Kesehatan Ibu Hamil</td>\n",
              "      <td>Membedakan demam biasa dengan infeksi serius.</td>\n",
              "      <td>&lt;p&gt;Demam selama kehamilan bisa menjadi hal yan...</td>\n",
              "      <td>demam_lebih_2_hari</td>\n",
              "    </tr>\n",
              "    <tr>\n",
              "      <th>2</th>\n",
              "      <td>3</td>\n",
              "      <td>Diare Tak Kunjung Berhenti - Solusi Aman</td>\n",
              "      <td>Gangguan Pencernaan</td>\n",
              "      <td>Penanganan diare kronis tanpa membahayakan janin.</td>\n",
              "      <td>&lt;p&gt;Diare adalah salah satu keluhan pencernaan ...</td>\n",
              "      <td>diare_berulang</td>\n",
              "    </tr>\n",
              "    <tr>\n",
              "      <th>3</th>\n",
              "      <td>4</td>\n",
              "      <td>Ngidam Manis di Malam Hari - Amankah?</td>\n",
              "      <td>Nutrisi Ibu Hamil</td>\n",
              "      <td>Mengelola keinginan makan manis secara sehat.</td>\n",
              "      <td>&lt;p&gt;Ngidam makanan manis di malam hari merupaka...</td>\n",
              "      <td>gula_darah_tinggi</td>\n",
              "    </tr>\n",
              "    <tr>\n",
              "      <th>4</th>\n",
              "      <td>5</td>\n",
              "      <td>Keringat Dingin dan Gemetar Tiba-tiba</td>\n",
              "      <td>Kesehatan Ibu Hamil</td>\n",
              "      <td>Mengenali gejala hipoglikemia darurat.</td>\n",
              "      <td>&lt;p&gt;Selama kehamilan, tubuh mengalami berbagai ...</td>\n",
              "      <td>gula_darah_rendah</td>\n",
              "    </tr>\n",
              "  </tbody>\n",
              "</table>\n",
              "</div>"
            ],
            "text/plain": [
              "   id                                          judul             kategori  \\\n",
              "0   1      Mengatasi Rasa Lelah yang Tak Tertahankan  Kesehatan Ibu Hamil   \n",
              "1   2  Demam Berkepanjangan - Kapan Harus Ke Dokter?  Kesehatan Ibu Hamil   \n",
              "2   3       Diare Tak Kunjung Berhenti - Solusi Aman  Gangguan Pencernaan   \n",
              "3   4          Ngidam Manis di Malam Hari - Amankah?    Nutrisi Ibu Hamil   \n",
              "4   5          Keringat Dingin dan Gemetar Tiba-tiba  Kesehatan Ibu Hamil   \n",
              "\n",
              "                                           deskripsi  \\\n",
              "0  Strategi mengelola fatigue ekstrim selama keha...   \n",
              "1      Membedakan demam biasa dengan infeksi serius.   \n",
              "2  Penanganan diare kronis tanpa membahayakan janin.   \n",
              "3      Mengelola keinginan makan manis secara sehat.   \n",
              "4             Mengenali gejala hipoglikemia darurat.   \n",
              "\n",
              "                                             content  \\\n",
              "0  <p>Kehamilan adalah masa penuh harapan dan kea...   \n",
              "1  <p>Demam selama kehamilan bisa menjadi hal yan...   \n",
              "2  <p>Diare adalah salah satu keluhan pencernaan ...   \n",
              "3  <p>Ngidam makanan manis di malam hari merupaka...   \n",
              "4  <p>Selama kehamilan, tubuh mengalami berbagai ...   \n",
              "\n",
              "                             tag  \n",
              "0  bradikardia|gula_darah_rendah  \n",
              "1             demam_lebih_2_hari  \n",
              "2                 diare_berulang  \n",
              "3              gula_darah_tinggi  \n",
              "4              gula_darah_rendah  "
            ]
          },
          "execution_count": 3,
          "metadata": {},
          "output_type": "execute_result"
        }
      ],
      "source": [
        "df_artikel_new = pd.read_csv(\"data_artikel_new.csv\")\n",
        "df_artikel_new.head()"
      ]
    },
    {
      "cell_type": "markdown",
      "metadata": {
        "id": "TGnq22C7qGL2"
      },
      "source": [
        "Berisi metadata artikel:\n",
        "- `judul`, `kategori`, `deskripsi`, dan `tag`\n",
        "- Kolom `tag` mendeskripsikan topik artikel, bisa lebih dari satu, dipisahkan dengan `|` (multi-label juga)."
      ]
    },
    {
      "cell_type": "code",
      "execution_count": 4,
      "metadata": {
        "colab": {
          "base_uri": "https://localhost:8080/"
        },
        "id": "2jwDEDEJ1jWp",
        "outputId": "8b437e3c-0434-40a0-fde0-44add6f3bcb7"
      },
      "outputs": [
        {
          "name": "stdout",
          "output_type": "stream",
          "text": [
            "<class 'pandas.core.frame.DataFrame'>\n",
            "RangeIndex: 80 entries, 0 to 79\n",
            "Data columns (total 6 columns):\n",
            " #   Column     Non-Null Count  Dtype \n",
            "---  ------     --------------  ----- \n",
            " 0   id         80 non-null     int64 \n",
            " 1   judul      80 non-null     object\n",
            " 2   kategori   80 non-null     object\n",
            " 3   deskripsi  80 non-null     object\n",
            " 4   content    80 non-null     object\n",
            " 5   tag        80 non-null     object\n",
            "dtypes: int64(1), object(5)\n",
            "memory usage: 3.9+ KB\n"
          ]
        }
      ],
      "source": [
        "df_artikel_new.info()"
      ]
    },
    {
      "cell_type": "code",
      "execution_count": 5,
      "metadata": {
        "colab": {
          "base_uri": "https://localhost:8080/",
          "height": 1000
        },
        "id": "LX_D6wXl19_z",
        "outputId": "112a591b-bca8-454f-b18f-62cbba473cf9"
      },
      "outputs": [
        {
          "data": {
            "application/vnd.microsoft.datawrangler.viewer.v0+json": {
              "columns": [
                {
                  "name": "tag",
                  "rawType": "object",
                  "type": "string"
                },
                {
                  "name": "count",
                  "rawType": "int64",
                  "type": "integer"
                }
              ],
              "ref": "a69fa5f8-d65d-40bb-8224-71f9a919346c",
              "rows": [
                [
                  "sulit_tidur",
                  "13"
                ],
                [
                  "diare_berulang",
                  "7"
                ],
                [
                  "hipertensi_ringan",
                  "5"
                ],
                [
                  "gula_darah_rendah",
                  "5"
                ],
                [
                  "pusing",
                  "5"
                ],
                [
                  "demam_lebih_2_hari",
                  "5"
                ],
                [
                  "pusing|1",
                  "4"
                ],
                [
                  "pusing|gula_darah_rendah",
                  "2"
                ],
                [
                  "bradikardia",
                  "2"
                ],
                [
                  "nyeri_perut_berat|2|3",
                  "2"
                ],
                [
                  "diare_berulang|3",
                  "2"
                ],
                [
                  "hipertensi_berat|3",
                  "2"
                ],
                [
                  "takikardia",
                  "2"
                ],
                [
                  "hipertensi_ringan|3",
                  "2"
                ],
                [
                  "gula_darah_tinggi|2|3",
                  "2"
                ],
                [
                  "gula_darah_tinggi",
                  "2"
                ],
                [
                  "gula_darah_tinggi|1",
                  "1"
                ],
                [
                  "bradikardia|3",
                  "1"
                ],
                [
                  "hipertensi_ringan|2|3",
                  "1"
                ],
                [
                  "gula_darah_rendah|1",
                  "1"
                ],
                [
                  "nyeri_perut_berat|2",
                  "1"
                ],
                [
                  "diare_berulang|1",
                  "1"
                ],
                [
                  "takikardia|3",
                  "1"
                ],
                [
                  "bradikardia|gula_darah_rendah",
                  "1"
                ],
                [
                  "gula_darah_tinggi|3",
                  "1"
                ],
                [
                  "nyeri_perut_berat|3",
                  "1"
                ],
                [
                  "sulit_tidur|hipertensi_berat|3",
                  "1"
                ],
                [
                  "hipertensi_ringan|pusing",
                  "1"
                ],
                [
                  "sulit_tidur|3",
                  "1"
                ],
                [
                  "prehipertensi|hipertensi_ringan",
                  "1"
                ],
                [
                  "nyeri_perut_berat",
                  "1"
                ],
                [
                  "takikardia|2",
                  "1"
                ],
                [
                  "hipertensi_berat|pusing",
                  "1"
                ],
                [
                  "sulit_tidur|2|3",
                  "1"
                ]
              ],
              "shape": {
                "columns": 1,
                "rows": 34
              }
            },
            "text/plain": [
              "tag\n",
              "sulit_tidur                        13\n",
              "diare_berulang                      7\n",
              "hipertensi_ringan                   5\n",
              "gula_darah_rendah                   5\n",
              "pusing                              5\n",
              "demam_lebih_2_hari                  5\n",
              "pusing|1                            4\n",
              "pusing|gula_darah_rendah            2\n",
              "bradikardia                         2\n",
              "nyeri_perut_berat|2|3               2\n",
              "diare_berulang|3                    2\n",
              "hipertensi_berat|3                  2\n",
              "takikardia                          2\n",
              "hipertensi_ringan|3                 2\n",
              "gula_darah_tinggi|2|3               2\n",
              "gula_darah_tinggi                   2\n",
              "gula_darah_tinggi|1                 1\n",
              "bradikardia|3                       1\n",
              "hipertensi_ringan|2|3               1\n",
              "gula_darah_rendah|1                 1\n",
              "nyeri_perut_berat|2                 1\n",
              "diare_berulang|1                    1\n",
              "takikardia|3                        1\n",
              "bradikardia|gula_darah_rendah       1\n",
              "gula_darah_tinggi|3                 1\n",
              "nyeri_perut_berat|3                 1\n",
              "sulit_tidur|hipertensi_berat|3      1\n",
              "hipertensi_ringan|pusing            1\n",
              "sulit_tidur|3                       1\n",
              "prehipertensi|hipertensi_ringan     1\n",
              "nyeri_perut_berat                   1\n",
              "takikardia|2                        1\n",
              "hipertensi_berat|pusing             1\n",
              "sulit_tidur|2|3                     1\n",
              "Name: count, dtype: int64"
            ]
          },
          "execution_count": 5,
          "metadata": {},
          "output_type": "execute_result"
        }
      ],
      "source": [
        "# Menampilkan nilai unik beserta jumlah kemunculannya\n",
        "df_artikel_new['tag'].value_counts()"
      ]
    },
    {
      "cell_type": "markdown",
      "metadata": {
        "id": "fMOX1ji4qVGc"
      },
      "source": [
        "### **Dataset Pengguna**"
      ]
    },
    {
      "cell_type": "markdown",
      "metadata": {
        "id": "tAqWi581qapZ"
      },
      "source": [
        "Berisi data medis buatan sebanyak 20.000 baris. Fitur:\n",
        "\n",
        "- **Numerik**:\n",
        "  - `tekanan_sistolik`, `tekanan_diastolik`, `gula_darah`, `suhu_tubuh`, `trimester`, `denyut_jantung`\n",
        "- **Kategorikal (Yes/No)**:\n",
        "  - `demam_lebih_2_hari`, `pusing`, `sulit_tidur`, `nyeri_perut_berat`, `diare_berulang`\n",
        "- **Target multi-label**:\n",
        "  - `kategori_kondisi` (misal: `hipertensi_berat|pusing`)"
      ]
    },
    {
      "cell_type": "code",
      "execution_count": 6,
      "metadata": {
        "id": "gSxMNH7aGa_t"
      },
      "outputs": [],
      "source": [
        "# Daftar gejala tambahan (yes/no)\n",
        "gejala_list = [\n",
        "    \"demam_lebih_2_hari\",\n",
        "    \"pusing\",\n",
        "    \"sulit_tidur\",\n",
        "    \"nyeri_perut_berat\",\n",
        "    \"diare_berulang\"\n",
        "]\n",
        "\n",
        "# Generate 100 data dummy\n",
        "data_user = []\n",
        "\n",
        "for _ in range(20000):\n",
        "    sistolik = random.randint(90, 170)\n",
        "    diastolik = random.randint(60, 110)\n",
        "    gula = random.randint(60, 120)\n",
        "    suhu = round(random.uniform(36.4, 37.6), 1)\n",
        "    trimester = random.randint(1, 3)\n",
        "    denyut_jantung = random.randint(50, 130)\n",
        "\n",
        "    # Buat jawaban acak untuk gejala (yes/no)\n",
        "    gejala = {g: random.choice([\"yes\", \"no\"]) for g in gejala_list}\n",
        "\n",
        "    # Tentukan label kondisi\n",
        "    kondisi = []\n",
        "\n",
        "    # Kondisi berdasarkan tekanan darah\n",
        "    if sistolik >= 160 or diastolik >= 100:\n",
        "        kondisi.append(\"hipertensi_berat\")\n",
        "    elif sistolik >= 140 or diastolik >= 90:\n",
        "        kondisi.append(\"hipertensi_ringan\")\n",
        "    elif sistolik >= 120 or diastolik >= 80:\n",
        "        kondisi.append(\"prehipertensi\")\n",
        "\n",
        "    # Kondisi berdasarkan gula darah\n",
        "    if gula >= 110:\n",
        "        kondisi.append(\"gula_darah_tinggi\")\n",
        "    elif gula <= 75:\n",
        "        kondisi.append(\"gula_darah_rendah\")\n",
        "\n",
        "    # Kondisi berdasarkan denyut jantung\n",
        "    if denyut_jantung < 60:\n",
        "        kondisi.append(\"bradikardia\")\n",
        "    elif denyut_jantung > 100:\n",
        "        kondisi.append(\"takikardia\")\n",
        "\n",
        "    # Kondisi berdasarkan gejala\n",
        "    for g in gejala_list:\n",
        "        if gejala[g] == \"yes\":\n",
        "            kondisi.append(g)\n",
        "\n",
        "    if not kondisi:\n",
        "        kondisi.append(\"normal\")\n",
        "\n",
        "    # Gabungkan semua data ke dalam satu baris\n",
        "    row = {\n",
        "        \"tekanan_sistolik\": sistolik,\n",
        "        \"tekanan_diastolik\": diastolik,\n",
        "        \"gula_darah\": gula,\n",
        "        \"suhu_tubuh\": suhu,\n",
        "        \"trimester\": trimester,\n",
        "        \"denyut_jantung\": denyut_jantung,\n",
        "    }\n",
        "    row.update(gejala)\n",
        "    row[\"kategori_kondisi\"] = \"|\".join(kondisi)  # multi-label disatukan pakai pipe\n",
        "    data_user.append(row)\n",
        "\n",
        "# Buat DataFrame\n",
        "df_user = pd.DataFrame(data_user)"
      ]
    },
    {
      "cell_type": "code",
      "execution_count": 7,
      "metadata": {
        "colab": {
          "base_uri": "https://localhost:8080/",
          "height": 382
        },
        "id": "GlrUoGKRHhnI",
        "outputId": "dec18b52-2c35-4c56-96b1-573f5f010b52"
      },
      "outputs": [
        {
          "data": {
            "application/vnd.microsoft.datawrangler.viewer.v0+json": {
              "columns": [
                {
                  "name": "index",
                  "rawType": "int64",
                  "type": "integer"
                },
                {
                  "name": "tekanan_sistolik",
                  "rawType": "int64",
                  "type": "integer"
                },
                {
                  "name": "tekanan_diastolik",
                  "rawType": "int64",
                  "type": "integer"
                },
                {
                  "name": "gula_darah",
                  "rawType": "int64",
                  "type": "integer"
                },
                {
                  "name": "suhu_tubuh",
                  "rawType": "float64",
                  "type": "float"
                },
                {
                  "name": "trimester",
                  "rawType": "int64",
                  "type": "integer"
                },
                {
                  "name": "denyut_jantung",
                  "rawType": "int64",
                  "type": "integer"
                },
                {
                  "name": "demam_lebih_2_hari",
                  "rawType": "object",
                  "type": "string"
                },
                {
                  "name": "pusing",
                  "rawType": "object",
                  "type": "string"
                },
                {
                  "name": "sulit_tidur",
                  "rawType": "object",
                  "type": "string"
                },
                {
                  "name": "nyeri_perut_berat",
                  "rawType": "object",
                  "type": "string"
                },
                {
                  "name": "diare_berulang",
                  "rawType": "object",
                  "type": "string"
                },
                {
                  "name": "kategori_kondisi",
                  "rawType": "object",
                  "type": "string"
                }
              ],
              "ref": "5e8fca3a-6696-47d4-8ad2-253c3f5ce042",
              "rows": [
                [
                  "0",
                  "108",
                  "93",
                  "97",
                  "36.5",
                  "1",
                  "89",
                  "yes",
                  "yes",
                  "no",
                  "no",
                  "yes",
                  "hipertensi_ringan|demam_lebih_2_hari|pusing|diare_berulang"
                ],
                [
                  "1",
                  "121",
                  "102",
                  "62",
                  "37.6",
                  "1",
                  "85",
                  "yes",
                  "yes",
                  "no",
                  "yes",
                  "yes",
                  "hipertensi_berat|gula_darah_rendah|demam_lebih_2_hari|pusing|nyeri_perut_berat|diare_berulang"
                ],
                [
                  "2",
                  "136",
                  "109",
                  "66",
                  "36.8",
                  "1",
                  "120",
                  "yes",
                  "yes",
                  "yes",
                  "no",
                  "yes",
                  "hipertensi_berat|gula_darah_rendah|takikardia|demam_lebih_2_hari|pusing|sulit_tidur|diare_berulang"
                ],
                [
                  "3",
                  "150",
                  "70",
                  "94",
                  "36.8",
                  "3",
                  "62",
                  "yes",
                  "no",
                  "no",
                  "yes",
                  "yes",
                  "hipertensi_ringan|demam_lebih_2_hari|nyeri_perut_berat|diare_berulang"
                ],
                [
                  "4",
                  "161",
                  "70",
                  "120",
                  "37.0",
                  "3",
                  "50",
                  "no",
                  "yes",
                  "no",
                  "yes",
                  "yes",
                  "hipertensi_berat|gula_darah_tinggi|bradikardia|pusing|nyeri_perut_berat|diare_berulang"
                ],
                [
                  "5",
                  "99",
                  "102",
                  "83",
                  "37.2",
                  "2",
                  "112",
                  "yes",
                  "yes",
                  "no",
                  "no",
                  "yes",
                  "hipertensi_berat|takikardia|demam_lebih_2_hari|pusing|diare_berulang"
                ],
                [
                  "6",
                  "169",
                  "81",
                  "78",
                  "37.3",
                  "1",
                  "95",
                  "no",
                  "yes",
                  "yes",
                  "yes",
                  "yes",
                  "hipertensi_berat|pusing|sulit_tidur|nyeri_perut_berat|diare_berulang"
                ],
                [
                  "7",
                  "123",
                  "81",
                  "72",
                  "36.5",
                  "1",
                  "52",
                  "yes",
                  "no",
                  "no",
                  "yes",
                  "no",
                  "prehipertensi|gula_darah_rendah|bradikardia|demam_lebih_2_hari|nyeri_perut_berat"
                ],
                [
                  "8",
                  "147",
                  "99",
                  "79",
                  "37.2",
                  "1",
                  "108",
                  "yes",
                  "no",
                  "no",
                  "no",
                  "no",
                  "hipertensi_ringan|takikardia|demam_lebih_2_hari"
                ],
                [
                  "9",
                  "96",
                  "103",
                  "90",
                  "36.5",
                  "3",
                  "123",
                  "yes",
                  "yes",
                  "yes",
                  "no",
                  "yes",
                  "hipertensi_berat|takikardia|demam_lebih_2_hari|pusing|sulit_tidur|diare_berulang"
                ]
              ],
              "shape": {
                "columns": 12,
                "rows": 10
              }
            },
            "text/html": [
              "<div>\n",
              "<style scoped>\n",
              "    .dataframe tbody tr th:only-of-type {\n",
              "        vertical-align: middle;\n",
              "    }\n",
              "\n",
              "    .dataframe tbody tr th {\n",
              "        vertical-align: top;\n",
              "    }\n",
              "\n",
              "    .dataframe thead th {\n",
              "        text-align: right;\n",
              "    }\n",
              "</style>\n",
              "<table border=\"1\" class=\"dataframe\">\n",
              "  <thead>\n",
              "    <tr style=\"text-align: right;\">\n",
              "      <th></th>\n",
              "      <th>tekanan_sistolik</th>\n",
              "      <th>tekanan_diastolik</th>\n",
              "      <th>gula_darah</th>\n",
              "      <th>suhu_tubuh</th>\n",
              "      <th>trimester</th>\n",
              "      <th>denyut_jantung</th>\n",
              "      <th>demam_lebih_2_hari</th>\n",
              "      <th>pusing</th>\n",
              "      <th>sulit_tidur</th>\n",
              "      <th>nyeri_perut_berat</th>\n",
              "      <th>diare_berulang</th>\n",
              "      <th>kategori_kondisi</th>\n",
              "    </tr>\n",
              "  </thead>\n",
              "  <tbody>\n",
              "    <tr>\n",
              "      <th>0</th>\n",
              "      <td>108</td>\n",
              "      <td>93</td>\n",
              "      <td>97</td>\n",
              "      <td>36.5</td>\n",
              "      <td>1</td>\n",
              "      <td>89</td>\n",
              "      <td>yes</td>\n",
              "      <td>yes</td>\n",
              "      <td>no</td>\n",
              "      <td>no</td>\n",
              "      <td>yes</td>\n",
              "      <td>hipertensi_ringan|demam_lebih_2_hari|pusing|di...</td>\n",
              "    </tr>\n",
              "    <tr>\n",
              "      <th>1</th>\n",
              "      <td>121</td>\n",
              "      <td>102</td>\n",
              "      <td>62</td>\n",
              "      <td>37.6</td>\n",
              "      <td>1</td>\n",
              "      <td>85</td>\n",
              "      <td>yes</td>\n",
              "      <td>yes</td>\n",
              "      <td>no</td>\n",
              "      <td>yes</td>\n",
              "      <td>yes</td>\n",
              "      <td>hipertensi_berat|gula_darah_rendah|demam_lebih...</td>\n",
              "    </tr>\n",
              "    <tr>\n",
              "      <th>2</th>\n",
              "      <td>136</td>\n",
              "      <td>109</td>\n",
              "      <td>66</td>\n",
              "      <td>36.8</td>\n",
              "      <td>1</td>\n",
              "      <td>120</td>\n",
              "      <td>yes</td>\n",
              "      <td>yes</td>\n",
              "      <td>yes</td>\n",
              "      <td>no</td>\n",
              "      <td>yes</td>\n",
              "      <td>hipertensi_berat|gula_darah_rendah|takikardia|...</td>\n",
              "    </tr>\n",
              "    <tr>\n",
              "      <th>3</th>\n",
              "      <td>150</td>\n",
              "      <td>70</td>\n",
              "      <td>94</td>\n",
              "      <td>36.8</td>\n",
              "      <td>3</td>\n",
              "      <td>62</td>\n",
              "      <td>yes</td>\n",
              "      <td>no</td>\n",
              "      <td>no</td>\n",
              "      <td>yes</td>\n",
              "      <td>yes</td>\n",
              "      <td>hipertensi_ringan|demam_lebih_2_hari|nyeri_per...</td>\n",
              "    </tr>\n",
              "    <tr>\n",
              "      <th>4</th>\n",
              "      <td>161</td>\n",
              "      <td>70</td>\n",
              "      <td>120</td>\n",
              "      <td>37.0</td>\n",
              "      <td>3</td>\n",
              "      <td>50</td>\n",
              "      <td>no</td>\n",
              "      <td>yes</td>\n",
              "      <td>no</td>\n",
              "      <td>yes</td>\n",
              "      <td>yes</td>\n",
              "      <td>hipertensi_berat|gula_darah_tinggi|bradikardia...</td>\n",
              "    </tr>\n",
              "    <tr>\n",
              "      <th>5</th>\n",
              "      <td>99</td>\n",
              "      <td>102</td>\n",
              "      <td>83</td>\n",
              "      <td>37.2</td>\n",
              "      <td>2</td>\n",
              "      <td>112</td>\n",
              "      <td>yes</td>\n",
              "      <td>yes</td>\n",
              "      <td>no</td>\n",
              "      <td>no</td>\n",
              "      <td>yes</td>\n",
              "      <td>hipertensi_berat|takikardia|demam_lebih_2_hari...</td>\n",
              "    </tr>\n",
              "    <tr>\n",
              "      <th>6</th>\n",
              "      <td>169</td>\n",
              "      <td>81</td>\n",
              "      <td>78</td>\n",
              "      <td>37.3</td>\n",
              "      <td>1</td>\n",
              "      <td>95</td>\n",
              "      <td>no</td>\n",
              "      <td>yes</td>\n",
              "      <td>yes</td>\n",
              "      <td>yes</td>\n",
              "      <td>yes</td>\n",
              "      <td>hipertensi_berat|pusing|sulit_tidur|nyeri_peru...</td>\n",
              "    </tr>\n",
              "    <tr>\n",
              "      <th>7</th>\n",
              "      <td>123</td>\n",
              "      <td>81</td>\n",
              "      <td>72</td>\n",
              "      <td>36.5</td>\n",
              "      <td>1</td>\n",
              "      <td>52</td>\n",
              "      <td>yes</td>\n",
              "      <td>no</td>\n",
              "      <td>no</td>\n",
              "      <td>yes</td>\n",
              "      <td>no</td>\n",
              "      <td>prehipertensi|gula_darah_rendah|bradikardia|de...</td>\n",
              "    </tr>\n",
              "    <tr>\n",
              "      <th>8</th>\n",
              "      <td>147</td>\n",
              "      <td>99</td>\n",
              "      <td>79</td>\n",
              "      <td>37.2</td>\n",
              "      <td>1</td>\n",
              "      <td>108</td>\n",
              "      <td>yes</td>\n",
              "      <td>no</td>\n",
              "      <td>no</td>\n",
              "      <td>no</td>\n",
              "      <td>no</td>\n",
              "      <td>hipertensi_ringan|takikardia|demam_lebih_2_hari</td>\n",
              "    </tr>\n",
              "    <tr>\n",
              "      <th>9</th>\n",
              "      <td>96</td>\n",
              "      <td>103</td>\n",
              "      <td>90</td>\n",
              "      <td>36.5</td>\n",
              "      <td>3</td>\n",
              "      <td>123</td>\n",
              "      <td>yes</td>\n",
              "      <td>yes</td>\n",
              "      <td>yes</td>\n",
              "      <td>no</td>\n",
              "      <td>yes</td>\n",
              "      <td>hipertensi_berat|takikardia|demam_lebih_2_hari...</td>\n",
              "    </tr>\n",
              "  </tbody>\n",
              "</table>\n",
              "</div>"
            ],
            "text/plain": [
              "   tekanan_sistolik  tekanan_diastolik  gula_darah  suhu_tubuh  trimester  \\\n",
              "0               108                 93          97        36.5          1   \n",
              "1               121                102          62        37.6          1   \n",
              "2               136                109          66        36.8          1   \n",
              "3               150                 70          94        36.8          3   \n",
              "4               161                 70         120        37.0          3   \n",
              "5                99                102          83        37.2          2   \n",
              "6               169                 81          78        37.3          1   \n",
              "7               123                 81          72        36.5          1   \n",
              "8               147                 99          79        37.2          1   \n",
              "9                96                103          90        36.5          3   \n",
              "\n",
              "   denyut_jantung demam_lebih_2_hari pusing sulit_tidur nyeri_perut_berat  \\\n",
              "0              89                yes    yes          no                no   \n",
              "1              85                yes    yes          no               yes   \n",
              "2             120                yes    yes         yes                no   \n",
              "3              62                yes     no          no               yes   \n",
              "4              50                 no    yes          no               yes   \n",
              "5             112                yes    yes          no                no   \n",
              "6              95                 no    yes         yes               yes   \n",
              "7              52                yes     no          no               yes   \n",
              "8             108                yes     no          no                no   \n",
              "9             123                yes    yes         yes                no   \n",
              "\n",
              "  diare_berulang                                   kategori_kondisi  \n",
              "0            yes  hipertensi_ringan|demam_lebih_2_hari|pusing|di...  \n",
              "1            yes  hipertensi_berat|gula_darah_rendah|demam_lebih...  \n",
              "2            yes  hipertensi_berat|gula_darah_rendah|takikardia|...  \n",
              "3            yes  hipertensi_ringan|demam_lebih_2_hari|nyeri_per...  \n",
              "4            yes  hipertensi_berat|gula_darah_tinggi|bradikardia...  \n",
              "5            yes  hipertensi_berat|takikardia|demam_lebih_2_hari...  \n",
              "6            yes  hipertensi_berat|pusing|sulit_tidur|nyeri_peru...  \n",
              "7             no  prehipertensi|gula_darah_rendah|bradikardia|de...  \n",
              "8             no    hipertensi_ringan|takikardia|demam_lebih_2_hari  \n",
              "9            yes  hipertensi_berat|takikardia|demam_lebih_2_hari...  "
            ]
          },
          "execution_count": 7,
          "metadata": {},
          "output_type": "execute_result"
        }
      ],
      "source": [
        "df_user.head(10)"
      ]
    },
    {
      "cell_type": "code",
      "execution_count": 8,
      "metadata": {
        "colab": {
          "base_uri": "https://localhost:8080/"
        },
        "id": "ko6KqWXMHjbM",
        "outputId": "23bea303-26d3-4f15-ddbd-127db780dc2d"
      },
      "outputs": [
        {
          "name": "stdout",
          "output_type": "stream",
          "text": [
            "<class 'pandas.core.frame.DataFrame'>\n",
            "RangeIndex: 20000 entries, 0 to 19999\n",
            "Data columns (total 12 columns):\n",
            " #   Column              Non-Null Count  Dtype  \n",
            "---  ------              --------------  -----  \n",
            " 0   tekanan_sistolik    20000 non-null  int64  \n",
            " 1   tekanan_diastolik   20000 non-null  int64  \n",
            " 2   gula_darah          20000 non-null  int64  \n",
            " 3   suhu_tubuh          20000 non-null  float64\n",
            " 4   trimester           20000 non-null  int64  \n",
            " 5   denyut_jantung      20000 non-null  int64  \n",
            " 6   demam_lebih_2_hari  20000 non-null  object \n",
            " 7   pusing              20000 non-null  object \n",
            " 8   sulit_tidur         20000 non-null  object \n",
            " 9   nyeri_perut_berat   20000 non-null  object \n",
            " 10  diare_berulang      20000 non-null  object \n",
            " 11  kategori_kondisi    20000 non-null  object \n",
            "dtypes: float64(1), int64(5), object(6)\n",
            "memory usage: 1.8+ MB\n"
          ]
        }
      ],
      "source": [
        "df_user.info()"
      ]
    },
    {
      "cell_type": "markdown",
      "metadata": {
        "id": "aYdMBo6zqurm"
      },
      "source": [
        "## **Data Preprocessing**"
      ]
    },
    {
      "cell_type": "markdown",
      "metadata": {
        "id": "Q6Uzn9jpq4vw"
      },
      "source": [
        "**Input Fitur** (`X`)\n",
        "- Fitur numerik: distandarisasi dengan `StandardScaler`.\n",
        "- Fitur gejala: dikonversi ke binary (`yes` → 1, `no` → 0) dengan `pd.get_dummies`."
      ]
    },
    {
      "cell_type": "code",
      "execution_count": 9,
      "metadata": {
        "colab": {
          "base_uri": "https://localhost:8080/"
        },
        "id": "yP7LkIujb0G_",
        "outputId": "b3ff17ef-ad42-487b-efdb-45035465c2e7"
      },
      "outputs": [
        {
          "name": "stderr",
          "output_type": "stream",
          "text": [
            "C:\\Users\\hp\\AppData\\Local\\Temp\\ipykernel_13536\\543204671.py:5: FutureWarning: Downcasting behavior in `replace` is deprecated and will be removed in a future version. To retain the old behavior, explicitly call `result.infer_objects(copy=False)`. To opt-in to the future behavior, set `pd.set_option('future.no_silent_downcasting', True)`\n",
            "  X_gejala = df_user[gejala_list].replace({\"yes\": 1, \"no\": 0}).values\n"
          ]
        }
      ],
      "source": [
        "gejala_list = [\"demam_lebih_2_hari\", \"pusing\", \"sulit_tidur\", \"nyeri_perut_berat\", \"diare_berulang\"]\n",
        "numerik_cols = [\"tekanan_sistolik\", \"tekanan_diastolik\", \"gula_darah\", \"suhu_tubuh\", \"trimester\", \"denyut_jantung\"]\n",
        "\n",
        "X_num = df_user[numerik_cols].values\n",
        "X_gejala = df_user[gejala_list].replace({\"yes\": 1, \"no\": 0}).values\n",
        "X_all = np.concatenate([X_num, X_gejala], axis=1)\n",
        "\n",
        "scaler = StandardScaler()\n",
        "X_scaled = scaler.fit_transform(X_all)"
      ]
    },
    {
      "cell_type": "markdown",
      "metadata": {
        "id": "E9gw4Gztq717"
      },
      "source": [
        "**Target** (`y`)\n",
        "\n",
        "Label multi-kondisi dari `kategori_kondisi` dipecah dan di-binarisasi menggunakan `MultiLabelBinarizer`."
      ]
    },
    {
      "cell_type": "code",
      "execution_count": 10,
      "metadata": {
        "id": "y_AjkLu9m1MW"
      },
      "outputs": [],
      "source": [
        "# Encode labels\n",
        "y_raw = df_user[\"kategori_kondisi\"].str.split(\"|\")\n",
        "mlb = MultiLabelBinarizer()\n",
        "y_encoded = mlb.fit_transform(y_raw)\n",
        "\n",
        "X_train, X_test, y_train, y_test = train_test_split(X_scaled, y_encoded, test_size=0.2, random_state=42)"
      ]
    },
    {
      "cell_type": "markdown",
      "metadata": {
        "id": "sispCIQkrM_W"
      },
      "source": [
        "## **🧠 Modeling**"
      ]
    },
    {
      "cell_type": "markdown",
      "metadata": {
        "id": "zeuuvfQLriYO"
      },
      "source": [
        "Model menggunakan arsitektur Sequential dari Keras:"
      ]
    },
    {
      "cell_type": "code",
      "execution_count": 11,
      "metadata": {
        "colab": {
          "base_uri": "https://localhost:8080/"
        },
        "id": "ppoQpZrWm28J",
        "outputId": "a49e795c-f038-454b-9e1e-8ff75c997d13"
      },
      "outputs": [
        {
          "name": "stdout",
          "output_type": "stream",
          "text": [
            "Epoch 1/10\n",
            "450/450 [==============================] - 5s 4ms/step - loss: 0.2170 - val_loss: 0.1217\n",
            "Epoch 2/10\n",
            "450/450 [==============================] - 5s 4ms/step - loss: 0.2170 - val_loss: 0.1217\n",
            "Epoch 2/10\n",
            "450/450 [==============================] - 2s 4ms/step - loss: 0.0998 - val_loss: 0.0880\n",
            "Epoch 3/10\n",
            "450/450 [==============================] - 2s 4ms/step - loss: 0.0998 - val_loss: 0.0880\n",
            "Epoch 3/10\n",
            "450/450 [==============================] - 2s 4ms/step - loss: 0.0783 - val_loss: 0.0742\n",
            "Epoch 4/10\n",
            "450/450 [==============================] - 2s 4ms/step - loss: 0.0783 - val_loss: 0.0742\n",
            "Epoch 4/10\n",
            "450/450 [==============================] - 2s 4ms/step - loss: 0.0659 - val_loss: 0.0617\n",
            "Epoch 5/10\n",
            "450/450 [==============================] - 2s 4ms/step - loss: 0.0659 - val_loss: 0.0617\n",
            "Epoch 5/10\n",
            "450/450 [==============================] - 2s 4ms/step - loss: 0.0539 - val_loss: 0.0486\n",
            "Epoch 6/10\n",
            "450/450 [==============================] - 2s 4ms/step - loss: 0.0539 - val_loss: 0.0486\n",
            "Epoch 6/10\n",
            "450/450 [==============================] - 1s 3ms/step - loss: 0.0414 - val_loss: 0.0386\n",
            "Epoch 7/10\n",
            "450/450 [==============================] - 1s 3ms/step - loss: 0.0414 - val_loss: 0.0386\n",
            "Epoch 7/10\n",
            "450/450 [==============================] - 2s 4ms/step - loss: 0.0329 - val_loss: 0.0325\n",
            "Epoch 8/10\n",
            "450/450 [==============================] - 2s 4ms/step - loss: 0.0329 - val_loss: 0.0325\n",
            "Epoch 8/10\n",
            "450/450 [==============================] - 2s 4ms/step - loss: 0.0282 - val_loss: 0.0282\n",
            "Epoch 9/10\n",
            "450/450 [==============================] - 2s 4ms/step - loss: 0.0282 - val_loss: 0.0282\n",
            "Epoch 9/10\n",
            "450/450 [==============================] - 2s 4ms/step - loss: 0.0250 - val_loss: 0.0250\n",
            "Epoch 10/10\n",
            "450/450 [==============================] - 2s 4ms/step - loss: 0.0250 - val_loss: 0.0250\n",
            "Epoch 10/10\n",
            "450/450 [==============================] - 2s 4ms/step - loss: 0.0224 - val_loss: 0.0230\n",
            "450/450 [==============================] - 2s 4ms/step - loss: 0.0224 - val_loss: 0.0230\n"
          ]
        },
        {
          "data": {
            "text/plain": [
              "<keras.callbacks.History at 0x110384c3d60>"
            ]
          },
          "execution_count": 11,
          "metadata": {},
          "output_type": "execute_result"
        }
      ],
      "source": [
        "# MLP model\n",
        "model = Sequential([\n",
        "    Input(shape=(X_train.shape[1],)),\n",
        "    Dense(128, activation='relu'),\n",
        "    Dense(64, activation='relu'),\n",
        "    Dense(len(mlb.classes_), activation='sigmoid')\n",
        "])\n",
        "model.compile(optimizer='adam', loss='binary_crossentropy')\n",
        "model.fit(X_train, y_train, epochs=10, batch_size=32, validation_split=0.1)"
      ]
    },
    {
      "cell_type": "code",
      "execution_count": 14,
      "metadata": {
        "colab": {
          "base_uri": "https://localhost:8080/"
        },
        "id": "RZ0W8wWzm4-Z",
        "outputId": "3bc82cc4-e74a-472f-ee16-cd7f3e2fa1d5"
      },
      "outputs": [
        {
          "name": "stdout",
          "output_type": "stream",
          "text": [
            "125/125 [==============================] - 0s 2ms/step\n",
            "125/125 [==============================] - 0s 2ms/step\n",
            "F1 Score: 0.954498109958425\n",
            "F1 Score: 0.954498109958425\n",
            "Precision: 0.9386205377392816\n",
            "Recall: 0.9738941385447879\n",
            "Precision: 0.9386205377392816\n",
            "Recall: 0.9738941385447879\n"
          ]
        }
      ],
      "source": [
        "# Evaluasi\n",
        "y_pred = model.predict(X_test)\n",
        "y_pred_bin = (y_pred > 0.3).astype(int)\n",
        "\n",
        "print(\"F1 Score:\", f1_score(y_test, y_pred_bin, average=\"macro\"))\n",
        "print(\"Precision:\", precision_score(y_test, y_pred_bin, average=\"macro\"))\n",
        "print(\"Recall:\", recall_score(y_test, y_pred_bin, average=\"macro\"))"
      ]
    },
    {
      "cell_type": "markdown",
      "metadata": {
        "id": "aiu13BEhuBI_"
      },
      "source": [
        "## **Inference dan Rekomendasi**"
      ]
    },
    {
      "cell_type": "code",
      "execution_count": 13,
      "metadata": {
        "colab": {
          "base_uri": "https://localhost:8080/",
          "height": 258
        },
        "id": "kyyl-TFbm-YP",
        "outputId": "8a358af5-e618-458a-caf9-8b7e0b138470"
      },
      "outputs": [
        {
          "name": "stdout",
          "output_type": "stream",
          "text": [
            "1/1 [==============================] - 0s 118ms/step\n",
            "1/1 [==============================] - 0s 118ms/step\n",
            "Rekomendasi artikel berdasarkan kondisi: ['takikardia' 'hipertensi_berat' 'sulit_tidur' 'pusing' 'diare_berulang']\n",
            "Rekomendasi artikel berdasarkan kondisi: ['takikardia' 'hipertensi_berat' 'sulit_tidur' 'pusing' 'diare_berulang']\n"
          ]
        },
        {
          "data": {
            "application/vnd.microsoft.datawrangler.viewer.v0+json": {
              "columns": [
                {
                  "name": "index",
                  "rawType": "int64",
                  "type": "integer"
                },
                {
                  "name": "judul",
                  "rawType": "object",
                  "type": "string"
                },
                {
                  "name": "deskripsi",
                  "rawType": "object",
                  "type": "string"
                },
                {
                  "name": "tag",
                  "rawType": "object",
                  "type": "string"
                }
              ],
              "ref": "b59d7931-b7a9-418f-83cb-752cfcb34e5c",
              "rows": [
                [
                  "2",
                  "Diare Tak Kunjung Berhenti - Solusi Aman",
                  "Penanganan diare kronis tanpa membahayakan janin.",
                  "diare_berulang"
                ],
                [
                  "7",
                  "Pandangan Berkabut Disertai Sakit Kepala",
                  "Gejala visual yang perlu evaluasi segera.",
                  "hipertensi_berat|pusing"
                ],
                [
                  "8",
                  "Sesak Napas Saat Aktivitas Ringan",
                  "Membedakan sesak normal dengan gejala serius.",
                  "takikardia"
                ],
                [
                  "9",
                  "Bengkak Kaki Parah di Sore Hari",
                  "Membedakan edema normal dengan tanda bahaya.",
                  "hipertensi_berat|3"
                ],
                [
                  "10",
                  "Detak Jantung Terasa Sampai ke Leher",
                  "Memahami palpitasi selama kehamilan.",
                  "takikardia|2"
                ]
              ],
              "shape": {
                "columns": 3,
                "rows": 5
              }
            },
            "text/html": [
              "<div>\n",
              "<style scoped>\n",
              "    .dataframe tbody tr th:only-of-type {\n",
              "        vertical-align: middle;\n",
              "    }\n",
              "\n",
              "    .dataframe tbody tr th {\n",
              "        vertical-align: top;\n",
              "    }\n",
              "\n",
              "    .dataframe thead th {\n",
              "        text-align: right;\n",
              "    }\n",
              "</style>\n",
              "<table border=\"1\" class=\"dataframe\">\n",
              "  <thead>\n",
              "    <tr style=\"text-align: right;\">\n",
              "      <th></th>\n",
              "      <th>judul</th>\n",
              "      <th>deskripsi</th>\n",
              "      <th>tag</th>\n",
              "    </tr>\n",
              "  </thead>\n",
              "  <tbody>\n",
              "    <tr>\n",
              "      <th>2</th>\n",
              "      <td>Diare Tak Kunjung Berhenti - Solusi Aman</td>\n",
              "      <td>Penanganan diare kronis tanpa membahayakan janin.</td>\n",
              "      <td>diare_berulang</td>\n",
              "    </tr>\n",
              "    <tr>\n",
              "      <th>7</th>\n",
              "      <td>Pandangan Berkabut Disertai Sakit Kepala</td>\n",
              "      <td>Gejala visual yang perlu evaluasi segera.</td>\n",
              "      <td>hipertensi_berat|pusing</td>\n",
              "    </tr>\n",
              "    <tr>\n",
              "      <th>8</th>\n",
              "      <td>Sesak Napas Saat Aktivitas Ringan</td>\n",
              "      <td>Membedakan sesak normal dengan gejala serius.</td>\n",
              "      <td>takikardia</td>\n",
              "    </tr>\n",
              "    <tr>\n",
              "      <th>9</th>\n",
              "      <td>Bengkak Kaki Parah di Sore Hari</td>\n",
              "      <td>Membedakan edema normal dengan tanda bahaya.</td>\n",
              "      <td>hipertensi_berat|3</td>\n",
              "    </tr>\n",
              "    <tr>\n",
              "      <th>10</th>\n",
              "      <td>Detak Jantung Terasa Sampai ke Leher</td>\n",
              "      <td>Memahami palpitasi selama kehamilan.</td>\n",
              "      <td>takikardia|2</td>\n",
              "    </tr>\n",
              "  </tbody>\n",
              "</table>\n",
              "</div>"
            ],
            "text/plain": [
              "                                       judul  \\\n",
              "2   Diare Tak Kunjung Berhenti - Solusi Aman   \n",
              "7   Pandangan Berkabut Disertai Sakit Kepala   \n",
              "8          Sesak Napas Saat Aktivitas Ringan   \n",
              "9            Bengkak Kaki Parah di Sore Hari   \n",
              "10      Detak Jantung Terasa Sampai ke Leher   \n",
              "\n",
              "                                            deskripsi                      tag  \n",
              "2   Penanganan diare kronis tanpa membahayakan janin.           diare_berulang  \n",
              "7           Gejala visual yang perlu evaluasi segera.  hipertensi_berat|pusing  \n",
              "8       Membedakan sesak normal dengan gejala serius.               takikardia  \n",
              "9        Membedakan edema normal dengan tanda bahaya.       hipertensi_berat|3  \n",
              "10               Memahami palpitasi selama kehamilan.             takikardia|2  "
            ]
          },
          "execution_count": 13,
          "metadata": {},
          "output_type": "execute_result"
        }
      ],
      "source": [
        "# Pilih user\n",
        "sample_index = 0\n",
        "X_user = X_test[sample_index].reshape(1, -1)\n",
        "\n",
        "# Prediksi Kondisi\n",
        "predicted_probs = model.predict(X_user)[0]\n",
        "\n",
        "# Top-N Kondisi\n",
        "top_n = 5\n",
        "top_indices = np.argsort(predicted_probs)[::-1][:top_n]\n",
        "top_kondisi = mlb.classes_[top_indices]\n",
        "\n",
        "# Filter artikel berdasarkan tag\n",
        "def get_top_articles(tags, df_artikel, n=5):\n",
        "    return df_artikel[df_artikel['tag'].apply(\n",
        "        lambda x: any(tag in x.split('|') for tag in tags))].head(n)[['judul', 'deskripsi', 'tag']]\n",
        "\n",
        "top_articles = get_top_articles(top_kondisi, df_artikel_new)\n",
        "print(\"Rekomendasi artikel berdasarkan kondisi:\", top_kondisi)\n",
        "top_articles\n"
      ]
    },
    {
      "cell_type": "code",
      "execution_count": 16,
      "metadata": {
        "id": "27DRZ9Uqo7Oz"
      },
      "outputs": [
        {
          "name": "stdout",
          "output_type": "stream",
          "text": [
            "INFO:tensorflow:Assets written to: model_rekomendasi_artikel\\assets\n"
          ]
        }
      ],
      "source": [
        "# Simpan model ke file HDF5\n",
        "model.save('model_rekomendasi_artikel', save_format='tf')"
      ]
    }
  ],
  "metadata": {
    "colab": {
      "collapsed_sections": [
        "RN6uE0V-p3Ib",
        "fMOX1ji4qVGc"
      ],
      "provenance": []
    },
    "kernelspec": {
      "display_name": "tf",
      "language": "python",
      "name": "python3"
    },
    "language_info": {
      "codemirror_mode": {
        "name": "ipython",
        "version": 3
      },
      "file_extension": ".py",
      "mimetype": "text/x-python",
      "name": "python",
      "nbconvert_exporter": "python",
      "pygments_lexer": "ipython3",
      "version": "3.9.21"
    }
  },
  "nbformat": 4,
  "nbformat_minor": 0
}
